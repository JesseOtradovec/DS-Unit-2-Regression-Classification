{
  "nbformat": 4,
  "nbformat_minor": 0,
  "metadata": {
    "colab": {
      "name": "Otradovecof assignment_regression_classification_2.ipynb",
      "version": "0.3.2",
      "provenance": [],
      "collapsed_sections": [],
      "include_colab_link": true
    },
    "kernelspec": {
      "name": "python3",
      "display_name": "Python 3"
    }
  },
  "cells": [
    {
      "cell_type": "markdown",
      "metadata": {
        "id": "view-in-github",
        "colab_type": "text"
      },
      "source": [
        "<a href=\"https://colab.research.google.com/github/JesseOtradovec/DS-Unit-2-Regression-Classification/blob/master/Otradovecof_assignment_regression_classification_2.ipynb\" target=\"_parent\"><img src=\"https://colab.research.google.com/assets/colab-badge.svg\" alt=\"Open In Colab\"/></a>"
      ]
    },
    {
      "cell_type": "markdown",
      "metadata": {
        "id": "7IXUfiQ2UKj6",
        "colab_type": "text"
      },
      "source": [
        "Lambda School Data Science, Unit 2: Predictive Modeling\n",
        "\n",
        "# Regression & Classification, Module 2\n",
        "\n",
        "## Assignment\n",
        "\n",
        "You'll continue to **predict how much it costs to rent an apartment in NYC,** using the dataset from renthop.com.\n",
        "\n",
        "- [x] Do train/test split. Use data from April & May 2016 to train. Use data from June 2016 to test.\n",
        "- [x] Engineer at least two new features. (See below for explanation & ideas.)\n",
        "- [x] Fit a linear regression model with at least two features.\n",
        "- [x] Get the model's coefficients and intercept.\n",
        "- [x] Get regression metrics RMSE, MAE, and $R^2$, for both the train and test data.\n",
        "- [x] What's the best test MAE you can get? Share your score and features used with your cohort on Slack!\n",
        "- [x] As always, commit your notebook to your fork of the GitHub repo.\n",
        "\n",
        "\n",
        "#### [Feature Engineering](https://en.wikipedia.org/wiki/Feature_engineering)\n",
        "\n",
        "> \"Some machine learning projects succeed and some fail. What makes the difference? Easily the most important factor is the features used.\" — Pedro Domingos, [\"A Few Useful Things to Know about Machine Learning\"](https://homes.cs.washington.edu/~pedrod/papers/cacm12.pdf)\n",
        "\n",
        "> \"Coming up with features is difficult, time-consuming, requires expert knowledge. 'Applied machine learning' is basically feature engineering.\" — Andrew Ng, [Machine Learning and AI via Brain simulations](https://forum.stanford.edu/events/2011/2011slides/plenary/2011plenaryNg.pdf) \n",
        "\n",
        "> Feature engineering is the process of using domain knowledge of the data to create features that make machine learning algorithms work. \n",
        "\n",
        "#### Feature Ideas\n",
        "- Does the apartment have a description?\n",
        "- How long is the description?\n",
        "- How many total perks does each apartment have?\n",
        "- Are cats _or_ dogs allowed?\n",
        "- Are cats _and_ dogs allowed?\n",
        "- Total number of rooms (beds + baths)\n",
        "- Ratio of beds to baths\n",
        "- What's the neighborhood, based on address or latitude & longitude?\n",
        "\n",
        "## Stretch Goals\n",
        "- [ ] If you want more math, skim [_An Introduction to Statistical Learning_](http://faculty.marshall.usc.edu/gareth-james/ISL/ISLR%20Seventh%20Printing.pdf),  Chapter 3.1, Simple Linear Regression, & Chapter 3.2, Multiple Linear Regression\n",
        "- [ ] If you want more introduction, watch [Brandon Foltz, Statistics 101: Simple Linear Regression](https://www.youtube.com/watch?v=ZkjP5RJLQF4)\n",
        "(20 minutes, over 1 million views)\n",
        "- [ ] Do the [Plotly Dash](https://dash.plot.ly/) Tutorial, Parts 1 & 2.\n",
        "- [ ] Add your own stretch goal(s) !"
      ]
    },
    {
      "cell_type": "code",
      "metadata": {
        "id": "o9eSnDYhUGD7",
        "colab_type": "code",
        "colab": {}
      },
      "source": [
        "# If you're in Colab...\n",
        "import os, sys\n",
        "in_colab = 'google.colab' in sys.modules\n",
        "\n",
        "if in_colab:\n",
        "    # Install required python packages:\n",
        "    # pandas-profiling, version >= 2.0\n",
        "    # plotly, version >= 4.0\n",
        "    !pip install --upgrade pandas-profiling plotly\n",
        "    \n",
        "    # Pull files from Github repo\n",
        "    os.chdir('/content')\n",
        "    !git init .\n",
        "    !git remote add origin https://github.com/LambdaSchool/DS-Unit-2-Regression-Classification.git\n",
        "    !git pull origin master\n",
        "    \n",
        "    # Change into directory for module\n",
        "    os.chdir('module1')"
      ],
      "execution_count": 0,
      "outputs": []
    },
    {
      "cell_type": "code",
      "metadata": {
        "id": "ipBYS77PUwNR",
        "colab_type": "code",
        "colab": {}
      },
      "source": [
        "# Ignore this Numpy warning when using Plotly Express:\n",
        "# FutureWarning: Method .ptp is deprecated and will be removed in a future version. Use numpy.ptp instead.\n",
        "import warnings\n",
        "warnings.filterwarnings(action='ignore', category=FutureWarning, module='numpy')"
      ],
      "execution_count": 0,
      "outputs": []
    },
    {
      "cell_type": "code",
      "metadata": {
        "id": "cvrw-T3bZOuW",
        "colab_type": "code",
        "colab": {}
      },
      "source": [
        "import numpy as np\n",
        "import pandas as pd\n",
        "\n",
        "# Read New York City apartment rental listing data\n",
        "df = pd.read_csv('../data/renthop-nyc.csv')\n",
        "assert df.shape == (49352, 34)\n",
        "\n",
        "# Remove the most extreme 1% prices,\n",
        "# the most extreme .1% latitudes, &\n",
        "# the most extreme .1% longitudes\n",
        "df = df[(df['price'] >= np.percentile(df['price'], 0.5)) & \n",
        "        (df['price'] <= np.percentile(df['price'], 99.5)) & \n",
        "        (df['latitude'] >= np.percentile(df['latitude'], 0.05)) & \n",
        "        (df['latitude'] < np.percentile(df['latitude'], 99.95)) &\n",
        "        (df['longitude'] >= np.percentile(df['longitude'], 0.05)) & \n",
        "        (df['longitude'] <= np.percentile(df['longitude'], 99.95))]"
      ],
      "execution_count": 0,
      "outputs": []
    },
    {
      "cell_type": "code",
      "metadata": {
        "id": "Rx6tHxgHpLsg",
        "colab_type": "code",
        "colab": {}
      },
      "source": [
        ""
      ],
      "execution_count": 0,
      "outputs": []
    },
    {
      "cell_type": "code",
      "metadata": {
        "id": "-Y8IFjH9sUcB",
        "colab_type": "code",
        "colab": {}
      },
      "source": [
        ""
      ],
      "execution_count": 0,
      "outputs": []
    },
    {
      "cell_type": "code",
      "metadata": {
        "id": "vXrT6Wh3bM-Y",
        "colab_type": "code",
        "colab": {}
      },
      "source": [
        "df.created=pd.to_datetime(df.created)\n"
      ],
      "execution_count": 0,
      "outputs": []
    },
    {
      "cell_type": "markdown",
      "metadata": {
        "id": "7bapKlXNnNPP",
        "colab_type": "text"
      },
      "source": [
        " Do train/test split. Use data from April & May 2016 to train. Use data from June 2016 to test."
      ]
    },
    {
      "cell_type": "code",
      "metadata": {
        "id": "0jUOR6iDtxDG",
        "colab_type": "code",
        "colab": {}
      },
      "source": [
        "def getMonth(datetime):\n",
        "  return(datetime.month)\n",
        "df['month']=df.created.apply(getMonth)"
      ],
      "execution_count": 0,
      "outputs": []
    },
    {
      "cell_type": "code",
      "metadata": {
        "id": "YD-ryvqQbeve",
        "colab_type": "code",
        "colab": {}
      },
      "source": [
        "#df.query(('created' < 2016-06-01 00:00:00)) &('created' >= 2016-04-01 00:00:00))\n",
        "# def getMonth(datetime):\n",
        "#   return(datetime.month)"
      ],
      "execution_count": 0,
      "outputs": []
    },
    {
      "cell_type": "code",
      "metadata": {
        "id": "OFLyRwihnxdp",
        "colab_type": "code",
        "outputId": "cbbe9e3b-1b29-4b51-b21f-087bd04fc8db",
        "colab": {
          "base_uri": "https://localhost:8080/",
          "height": 54
        }
      },
      "source": [
        "start_of_june=pd.to_datetime('2016-06-01 00:00:00')\n",
        "print(type(start_of_june))\n",
        "#df.query(df.created > start_of_june)\n",
        "start_of_june.month"
      ],
      "execution_count": 21,
      "outputs": [
        {
          "output_type": "stream",
          "text": [
            "<class 'pandas._libs.tslibs.timestamps.Timestamp'>\n"
          ],
          "name": "stdout"
        },
        {
          "output_type": "execute_result",
          "data": {
            "text/plain": [
              "6"
            ]
          },
          "metadata": {
            "tags": []
          },
          "execution_count": 21
        }
      ]
    },
    {
      "cell_type": "code",
      "metadata": {
        "id": "R-EIiQpfoT-X",
        "colab_type": "code",
        "colab": {}
      },
      "source": [
        "train=df.query('month == 4 or month==5')"
      ],
      "execution_count": 0,
      "outputs": []
    },
    {
      "cell_type": "code",
      "metadata": {
        "id": "ZCnl6ylfumzE",
        "colab_type": "code",
        "colab": {}
      },
      "source": [
        "test=df.query(\"month==6\")"
      ],
      "execution_count": 0,
      "outputs": []
    },
    {
      "cell_type": "markdown",
      "metadata": {
        "id": "EXUFT6x4vSbQ",
        "colab_type": "text"
      },
      "source": [
        "Engineer at least two new features. (See below for explanation & ideas.)\n",
        "Does the apartment have a description?\n",
        "How long is the description?\n",
        "How many total perks does each apartment have?\n",
        "Are cats or dogs allowed?\n",
        "Are cats and dogs allowed?\n",
        "Total number of rooms (beds + baths)\n",
        "Ratio of beds to baths\n",
        "What's the neighborhood, based on address or latitude & longitude?"
      ]
    },
    {
      "cell_type": "code",
      "metadata": {
        "id": "Kh3X9WBuvHK2",
        "colab_type": "code",
        "colab": {}
      },
      "source": [
        "\n",
        "df['bedplusbath']=df.bedrooms+df.bathrooms\n",
        "df['has_description']=df.description.astype(bool)\n",
        "df['description_length']=df.description.str.len()\n",
        "df['bedstobaths']=df.bedrooms/df.bathrooms"
      ],
      "execution_count": 0,
      "outputs": []
    },
    {
      "cell_type": "code",
      "metadata": {
        "id": "fp_YX22vvqKb",
        "colab_type": "code",
        "colab": {}
      },
      "source": [
        "train=df.query('month == 4 or month==5')\n",
        "test=df.query(\"month==6\")"
      ],
      "execution_count": 0,
      "outputs": []
    },
    {
      "cell_type": "code",
      "metadata": {
        "id": "pl3_2Y16xjvx",
        "colab_type": "code",
        "colab": {}
      },
      "source": [
        "#lat long bed bath"
      ],
      "execution_count": 0,
      "outputs": []
    },
    {
      "cell_type": "code",
      "metadata": {
        "id": "3Nd7Nh_p0wET",
        "colab_type": "code",
        "colab": {
          "base_uri": "https://localhost:8080/",
          "height": 35
        },
        "outputId": "43090d30-ec73-481b-960f-46bb7c964518"
      },
      "source": [
        "from sklearn.linear_model import  LinearRegression\n",
        "import plotly.express as px\n",
        "import plotly.graph_objs as go\n",
        "model=LinearRegression()\n",
        "features=['latitude','longitude','bedrooms','bathrooms']\n",
        "X=train[features]\n",
        "y=train['price']\n",
        "model.fit(X,y)\n",
        "#fig=px.scatter_3d(train, x=X[0], y=X[1], z=y)"
      ],
      "execution_count": 32,
      "outputs": [
        {
          "output_type": "execute_result",
          "data": {
            "text/plain": [
              "LinearRegression(copy_X=True, fit_intercept=True, n_jobs=None, normalize=False)"
            ]
          },
          "metadata": {
            "tags": []
          },
          "execution_count": 32
        }
      ]
    },
    {
      "cell_type": "markdown",
      "metadata": {
        "id": "6Nv__6MRxkXU",
        "colab_type": "text"
      },
      "source": [
        "Fit a linear regression model with at least two features. which I do above\n",
        "\n",
        "Get the model's coefficients and intercept.\n",
        " Get regression metrics RMSE, MAE, and  R2 , for both the train and test data.\n",
        " What's the best test MAE you can get? Share your score and features used with your cohort on Slack!\n",
        " As always, commit your notebook to your fork of the GitHub repo."
      ]
    },
    {
      "cell_type": "code",
      "metadata": {
        "id": "vBoocdZn0xC9",
        "colab_type": "code",
        "colab": {
          "base_uri": "https://localhost:8080/",
          "height": 108
        },
        "outputId": "f498fb36-9caf-4809-ffca-063c231cb47b"
      },
      "source": [
        "print(\"Intercept:\", model.intercept_)\n",
        "coefficients = pd.Series(model.coef_,features)\n",
        "print(coefficients.to_string())"
      ],
      "execution_count": 33,
      "outputs": [
        {
          "output_type": "stream",
          "text": [
            "Intercept: -1283306.4906903051\n",
            "latitude      1863.915192\n",
            "longitude   -16328.426476\n",
            "bedrooms       428.451529\n",
            "bathrooms     2002.796610\n"
          ],
          "name": "stdout"
        }
      ]
    },
    {
      "cell_type": "code",
      "metadata": {
        "id": "Ix0fV2b836zM",
        "colab_type": "code",
        "colab": {}
      },
      "source": [
        "price_prediction=model.predict(X)"
      ],
      "execution_count": 0,
      "outputs": []
    },
    {
      "cell_type": "code",
      "metadata": {
        "id": "xHoCsAYH4R6L",
        "colab_type": "code",
        "colab": {
          "base_uri": "https://localhost:8080/",
          "height": 308
        },
        "outputId": "6a73f444-9df5-4a36-801c-ff6684c0cfd4"
      },
      "source": [
        "train['predicted']=price_prediction\n",
        "train['error']=price_prediction-y"
      ],
      "execution_count": 36,
      "outputs": [
        {
          "output_type": "stream",
          "text": [
            "/usr/local/lib/python3.6/dist-packages/ipykernel_launcher.py:1: SettingWithCopyWarning:\n",
            "\n",
            "\n",
            "A value is trying to be set on a copy of a slice from a DataFrame.\n",
            "Try using .loc[row_indexer,col_indexer] = value instead\n",
            "\n",
            "See the caveats in the documentation: http://pandas.pydata.org/pandas-docs/stable/indexing.html#indexing-view-versus-copy\n",
            "\n",
            "/usr/local/lib/python3.6/dist-packages/ipykernel_launcher.py:2: SettingWithCopyWarning:\n",
            "\n",
            "\n",
            "A value is trying to be set on a copy of a slice from a DataFrame.\n",
            "Try using .loc[row_indexer,col_indexer] = value instead\n",
            "\n",
            "See the caveats in the documentation: http://pandas.pydata.org/pandas-docs/stable/indexing.html#indexing-view-versus-copy\n",
            "\n"
          ],
          "name": "stderr"
        }
      ]
    },
    {
      "cell_type": "code",
      "metadata": {
        "id": "QAHh6YFl4oIc",
        "colab_type": "code",
        "colab": {
          "base_uri": "https://localhost:8080/",
          "height": 35
        },
        "outputId": "68d068c5-5b57-4510-d6d0-b5f1f342f156"
      },
      "source": [
        "mae=train['error'].abs().mean()\n",
        "mae"
      ],
      "execution_count": 38,
      "outputs": [
        {
          "output_type": "execute_result",
          "data": {
            "text/plain": [
              "739.1822083746787"
            ]
          },
          "metadata": {
            "tags": []
          },
          "execution_count": 38
        }
      ]
    },
    {
      "cell_type": "code",
      "metadata": {
        "id": "aimFUqix47DL",
        "colab_type": "code",
        "colab": {}
      },
      "source": [
        "from sklearn.metrics import mean_absolute_error, r2_score"
      ],
      "execution_count": 0,
      "outputs": []
    },
    {
      "cell_type": "code",
      "metadata": {
        "id": "Y_o2xfL97Dwf",
        "colab_type": "code",
        "colab": {
          "base_uri": "https://localhost:8080/",
          "height": 35
        },
        "outputId": "467e0184-a8e9-457d-e9a5-7c4bab34c916"
      },
      "source": [
        "mae=mean_absolute_error(price_prediction,y)\n",
        "mae"
      ],
      "execution_count": 41,
      "outputs": [
        {
          "output_type": "execute_result",
          "data": {
            "text/plain": [
              "739.1822083746687"
            ]
          },
          "metadata": {
            "tags": []
          },
          "execution_count": 41
        }
      ]
    },
    {
      "cell_type": "code",
      "metadata": {
        "id": "jnajTEG38UNe",
        "colab_type": "code",
        "colab": {
          "base_uri": "https://localhost:8080/",
          "height": 35
        },
        "outputId": "74d5465e-8259-4ab2-82a5-cccba88a1973"
      },
      "source": [
        "r2=r2_score(y,price_prediction)\n",
        "print(\"R^2\", r2)"
      ],
      "execution_count": 42,
      "outputs": [
        {
          "output_type": "stream",
          "text": [
            "R^2 0.5769090842021488\n"
          ],
          "name": "stdout"
        }
      ]
    },
    {
      "cell_type": "code",
      "metadata": {
        "id": "f4lNKUS78moV",
        "colab_type": "code",
        "colab": {}
      },
      "source": [
        "test_x=test[features]\n",
        "test_y=test['price']"
      ],
      "execution_count": 0,
      "outputs": []
    },
    {
      "cell_type": "code",
      "metadata": {
        "id": "aoM1EI278y4D",
        "colab_type": "code",
        "colab": {
          "base_uri": "https://localhost:8080/",
          "height": 308
        },
        "outputId": "f2f20ca7-5376-4995-a845-2914cda99cf2"
      },
      "source": [
        "price_prediction=model.predict(test_x)\n",
        "test['predicted']=price_prediction\n",
        "test['error']=price_prediction-test_y.values"
      ],
      "execution_count": 47,
      "outputs": [
        {
          "output_type": "stream",
          "text": [
            "/usr/local/lib/python3.6/dist-packages/ipykernel_launcher.py:2: SettingWithCopyWarning:\n",
            "\n",
            "\n",
            "A value is trying to be set on a copy of a slice from a DataFrame.\n",
            "Try using .loc[row_indexer,col_indexer] = value instead\n",
            "\n",
            "See the caveats in the documentation: http://pandas.pydata.org/pandas-docs/stable/indexing.html#indexing-view-versus-copy\n",
            "\n",
            "/usr/local/lib/python3.6/dist-packages/ipykernel_launcher.py:3: SettingWithCopyWarning:\n",
            "\n",
            "\n",
            "A value is trying to be set on a copy of a slice from a DataFrame.\n",
            "Try using .loc[row_indexer,col_indexer] = value instead\n",
            "\n",
            "See the caveats in the documentation: http://pandas.pydata.org/pandas-docs/stable/indexing.html#indexing-view-versus-copy\n",
            "\n"
          ],
          "name": "stderr"
        }
      ]
    },
    {
      "cell_type": "code",
      "metadata": {
        "id": "y3BAsGCn9wD7",
        "colab_type": "code",
        "colab": {
          "base_uri": "https://localhost:8080/",
          "height": 54
        },
        "outputId": "3efc2d65-a5bf-4c21-dfcd-5e9cc99e7205"
      },
      "source": [
        "mae=mean_absolute_error(price_prediction,test_y)\n",
        "print(\"MAE\", mae)\n",
        "r2=r2_score(test_y,price_prediction)\n",
        "print(\"R^2\", r2)"
      ],
      "execution_count": 50,
      "outputs": [
        {
          "output_type": "stream",
          "text": [
            "MAE 744.9752658120702\n",
            "R^2 0.5882903576478172\n"
          ],
          "name": "stdout"
        }
      ]
    },
    {
      "cell_type": "code",
      "metadata": {
        "id": "8YHigc9d9PKc",
        "colab_type": "code",
        "colab": {}
      },
      "source": [
        ""
      ],
      "execution_count": 0,
      "outputs": []
    }
  ]
}