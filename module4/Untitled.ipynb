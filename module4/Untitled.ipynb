{
 "cells": [
  {
   "cell_type": "code",
   "execution_count": 1,
   "metadata": {},
   "outputs": [],
   "source": [
    "# If you're in Colab...\n",
    "import os, sys\n",
    "in_colab = 'google.colab' in sys.modules\n",
    "\n",
    "if in_colab:\n",
    "    # Install required python packages:\n",
    "    # category_encoders, version >= 2.0\n",
    "    # pandas-profiling, version >= 2.0\n",
    "    # plotly, version >= 4.0\n",
    "    !pip install --upgrade category_encoders pandas-profiling plotly\n",
    "    \n",
    "    # Pull files from Github repo\n",
    "    os.chdir('/content')\n",
    "    !git init .\n",
    "    !git remote add origin https://github.com/LambdaSchool/DS-Unit-2-Regression-Classification.git\n",
    "    !git pull origin master\n",
    "    \n",
    "    # Change into directory for module"
   ]
  },
  {
   "cell_type": "code",
   "execution_count": 2,
   "metadata": {},
   "outputs": [],
   "source": [
    "import warnings\n",
    "warnings.filterwarnings(action='ignore', category=FutureWarning, module='numpy')"
   ]
  },
  {
   "cell_type": "code",
   "execution_count": 3,
   "metadata": {},
   "outputs": [],
   "source": [
    "import pandas as pd\n",
    "\n",
    "train_features = pd.read_csv('../data/tanzania/train_features.csv')\n",
    "#train_features.date_recorded=pd.date_recorded turn these into datetime when I have time.\n",
    "train_features.region_code=train_features.region_code.astype(str) #region_code', 'district_code'\n",
    "train_features.district_code=train_features.district_code.astype(str)\n",
    "train_labels = pd.read_csv('../data/tanzania/train_labels.csv')\n",
    "test_features = pd.read_csv('../data/tanzania/test_features.csv')\n",
    "test_features.region_code=test_features.region_code.astype(str)\n",
    "test_features.district_code=test_features.district_code.astype(str)\n",
    "sample_submission = pd.read_csv('../data/tanzania/sample_submission.csv')\n",
    "\n",
    "assert train_features.shape == (59400, 40)\n",
    "assert train_labels.shape == (59400, 2)\n",
    "assert test_features.shape == (14358, 40)\n",
    "assert sample_submission.shape == (14358, 2)"
   ]
  },
  {
   "cell_type": "code",
   "execution_count": 6,
   "metadata": {},
   "outputs": [],
   "source": [
    "def cleanUp(df):\n",
    "    df=df.drop(columns=['id','num_private','amount_tsh'])\n",
    "    df.date_recorded=pd.to_datetime(df.date_recorded)\n",
    "    df.longitude=df.longitude.replace({0:35.15315303394668})\n",
    "    df.latitude=df.latitude.replace({0:-5.699241279889469})\n",
    "    df.construction_year=df.construction_year.replace({0:2010})\n",
    "    df.population=df.population.replace({0:281.60745437348936})\n",
    "    \n",
    "def cleanuptarget(y):\n",
    "    y=y.status_group"
   ]
  },
  {
   "cell_type": "code",
   "execution_count": null,
   "metadata": {},
   "outputs": [],
   "source": [
    "features=['basin',\n",
    " 'district_code',\n",
    " 'extraction_type',\n",
    " 'extraction_type_class',\n",
    " 'extraction_type_group',\n",
    " 'management',\n",
    " 'management_group',\n",
    " 'payment',\n",
    " 'payment_type',\n",
    " 'permit',\n",
    " 'public_meeting',\n",
    " 'quality_group',\n",
    " 'quantity',\n",
    " 'quantity_group',\n",
    " 'recorded_by',\n",
    " 'region',\n",
    " 'region_code',\n",
    " 'scheme_management',\n",
    " 'source',\n",
    " 'source_class',\n",
    " 'source_type',\n",
    " 'water_quality',\n",
    " 'waterpoint_type',\n",
    " 'waterpoint_type_group',\n",
    " 'gps_height',\n",
    " 'longitude',\n",
    " 'latitude',\n",
    " 'population',\n",
    " 'construction_year']"
   ]
  }
 ],
 "metadata": {
  "kernelspec": {
   "display_name": "Python 3",
   "language": "python",
   "name": "python3"
  },
  "language_info": {
   "codemirror_mode": {
    "name": "ipython",
    "version": 3
   },
   "file_extension": ".py",
   "mimetype": "text/x-python",
   "name": "python",
   "nbconvert_exporter": "python",
   "pygments_lexer": "ipython3",
   "version": "3.7.3"
  }
 },
 "nbformat": 4,
 "nbformat_minor": 2
}
