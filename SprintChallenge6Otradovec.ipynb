{
 "cells": [
  {
   "cell_type": "markdown",
   "metadata": {
    "colab_type": "text",
    "id": "M3XH_XLsy_Bn"
   },
   "source": [
    "_Lambda School Data Science, Unit 2_\n",
    " \n",
    "# Sprint Challenge: Predict Steph Curry's shots 🏀\n",
    "\n",
    "For your Sprint Challenge, you'll use a dataset with all Steph Curry's NBA field goal attempts. (Regular season and playoff games, from October 28, 2009, through June 5, 2019.) \n",
    "\n",
    "You'll predict whether each shot was made, using information about the shot and the game. This is hard to predict! Try to get above 60% accuracy. The dataset was collected with the [nba_api](https://github.com/swar/nba_api) Python library."
   ]
  },
  {
   "cell_type": "code",
   "execution_count": 1,
   "metadata": {
    "colab": {},
    "colab_type": "code",
    "id": "Nw3CL7TE7tNq"
   },
   "outputs": [],
   "source": [
    "import sys\n",
    "in_colab = 'google.colab' in sys.modules\n",
    "\n",
    "if in_colab:\n",
    "    # Install packages in Colab\n",
    "    !pip install category_encoders==2.0.0\n",
    "    !pip install pandas-profiling==2.3.0\n",
    "    !pip install plotly==4.1.1"
   ]
  },
  {
   "cell_type": "code",
   "execution_count": 3,
   "metadata": {
    "colab": {},
    "colab_type": "code",
    "id": "-Nm24pCHy_Bo"
   },
   "outputs": [],
   "source": [
    "# Read data\n",
    "import pandas as pd\n",
    "url = 'https://drive.google.com/uc?export=download&id=1fL7KPyxgGYfQDsuJoBWHIWwCAf-HTFpX'\n",
    "df = pd.read_csv(url)\n",
    "\n",
    "# Check data shape\n",
    "assert df.shape == (13958, 20)"
   ]
  },
  {
   "cell_type": "markdown",
   "metadata": {
    "colab_type": "text",
    "id": "B8BvDKLFy_Bq"
   },
   "source": [
    "To demonstrate mastery on your Sprint Challenge, do all the required, numbered instructions in this notebook.\n",
    "\n",
    "To earn a score of \"3\", also do all the stretch goals.\n",
    "\n",
    "You are permitted and encouraged to do as much data exploration as you want.\n",
    "\n",
    "**1. Begin with baselines for classification.** Your target to predict is `shot_made_flag`. What is your baseline accuracy, if you guessed the majority class for every prediction?\n",
    "\n",
    "**2. Hold out your test set.** Use the 2018-19 season to test. NBA seasons begin in October and end in June. You'll know you've split the data correctly when your test set has 1,709 observations.\n",
    "\n",
    "**3. Engineer new feature.** Engineer at least **1** new feature, from this list, or your own idea.\n",
    "- **Homecourt Advantage**: Is the home team (`htm`) the Golden State Warriors (`GSW`) ?\n",
    "- **Opponent**: Who is the other team playing the Golden State Warriors?\n",
    "- **Seconds remaining in the period**: Combine minutes remaining with seconds remaining, to get the total number of seconds remaining in the period.\n",
    "- **Seconds remaining in the game**: Combine period, and seconds remaining in the period, to get the total number of seconds remaining in the game. A basketball game has 4 periods, each 12 minutes long.\n",
    "- **Made previous shot**: Was Steph Curry's previous shot successful?\n",
    "\n",
    "**4. Decide how to validate** your model. Choose one of the following options. Any of these options are good. You are not graded on which you choose.\n",
    "- **Train/validate/test split: train on the 2009-10 season through 2016-17 season, validate with the 2017-18 season.** You'll know you've split the data correctly when your train set has 11,081 observations, and your validation set has 1,168 observations.\n",
    "- **Train/validate/test split: random 80/20%** train/validate split.\n",
    "- **Cross-validation** with independent test set. You may use any scikit-learn cross-validation method.\n",
    "\n",
    "**5.** Use a scikit-learn **pipeline** to **encode categoricals** and fit a **Decision Tree** or **Random Forest** model.\n",
    "\n",
    "**6.** Get your model's **validation accuracy.** (Multiple times if you try multiple iterations.) \n",
    "\n",
    "**7.** Get your model's **test accuracy.** (One time, at the end.)\n",
    "\n",
    "\n",
    "**8.** Given a **confusion matrix** for a hypothetical binary classification model, **calculate accuracy, precision, and recall.**\n",
    "\n",
    "### Stretch Goals\n",
    "- Engineer 4+ new features total, either from the list above, or your own ideas.\n",
    "- Make 2+ visualizations to explore relationships between features and target.\n",
    "- Optimize 3+ hyperparameters by trying 10+ \"candidates\" (possible combinations of hyperparameters). You can use `RandomizedSearchCV` or do it manually.\n",
    "- Get and plot your model's feature importances.\n",
    "\n"
   ]
  },
  {
   "cell_type": "markdown",
   "metadata": {
    "colab_type": "text",
    "id": "t6Jt3qjQ-zig"
   },
   "source": [
    "## 1. Begin with baselines for classification. \n",
    "\n",
    ">Your target to predict is `shot_made_flag`. What would your baseline accuracy be, if you guessed the majority class for every prediction?"
   ]
  },
  {
   "cell_type": "code",
   "execution_count": 4,
   "metadata": {
    "colab": {},
    "colab_type": "code",
    "id": "I0BDeNFG_Kee"
   },
   "outputs": [
    {
     "data": {
      "text/plain": [
       "0    0.527081\n",
       "1    0.472919\n",
       "Name: shot_made_flag, dtype: float64"
      ]
     },
     "execution_count": 4,
     "metadata": {},
     "output_type": "execute_result"
    }
   ],
   "source": [
    "df.shot_made_flag.value_counts(normalize=True)"
   ]
  },
  {
   "cell_type": "markdown",
   "metadata": {
    "colab_type": "text",
    "id": "Dz2QHBiVy_Br"
   },
   "source": [
    "## 2. Hold out your test set.\n",
    "\n",
    ">Use the 2018-19 season to test. NBA seasons begin in October and end in June. You'll know you've split the data correctly when your test set has 1,709 observations."
   ]
  },
  {
   "cell_type": "code",
   "execution_count": 5,
   "metadata": {
    "colab": {},
    "colab_type": "code",
    "id": "OPod6lBG_wTT"
   },
   "outputs": [
    {
     "data": {
      "text/html": [
       "<div>\n",
       "<style scoped>\n",
       "    .dataframe tbody tr th:only-of-type {\n",
       "        vertical-align: middle;\n",
       "    }\n",
       "\n",
       "    .dataframe tbody tr th {\n",
       "        vertical-align: top;\n",
       "    }\n",
       "\n",
       "    .dataframe thead th {\n",
       "        text-align: right;\n",
       "    }\n",
       "</style>\n",
       "<table border=\"1\" class=\"dataframe\">\n",
       "  <thead>\n",
       "    <tr style=\"text-align: right;\">\n",
       "      <th></th>\n",
       "      <th>game_id</th>\n",
       "      <th>game_event_id</th>\n",
       "      <th>player_name</th>\n",
       "      <th>period</th>\n",
       "      <th>minutes_remaining</th>\n",
       "      <th>seconds_remaining</th>\n",
       "      <th>action_type</th>\n",
       "      <th>shot_type</th>\n",
       "      <th>shot_zone_basic</th>\n",
       "      <th>shot_zone_area</th>\n",
       "      <th>shot_zone_range</th>\n",
       "      <th>shot_distance</th>\n",
       "      <th>loc_x</th>\n",
       "      <th>loc_y</th>\n",
       "      <th>shot_made_flag</th>\n",
       "      <th>game_date</th>\n",
       "      <th>htm</th>\n",
       "      <th>vtm</th>\n",
       "      <th>season_type</th>\n",
       "      <th>scoremargin_before_shot</th>\n",
       "    </tr>\n",
       "  </thead>\n",
       "  <tbody>\n",
       "    <tr>\n",
       "      <th>0</th>\n",
       "      <td>20900015</td>\n",
       "      <td>4</td>\n",
       "      <td>Stephen Curry</td>\n",
       "      <td>1</td>\n",
       "      <td>11</td>\n",
       "      <td>25</td>\n",
       "      <td>Jump Shot</td>\n",
       "      <td>3PT Field Goal</td>\n",
       "      <td>Above the Break 3</td>\n",
       "      <td>Right Side Center(RC)</td>\n",
       "      <td>24+ ft.</td>\n",
       "      <td>26</td>\n",
       "      <td>99</td>\n",
       "      <td>249</td>\n",
       "      <td>0</td>\n",
       "      <td>2009-10-28</td>\n",
       "      <td>GSW</td>\n",
       "      <td>HOU</td>\n",
       "      <td>Regular Season</td>\n",
       "      <td>2.0</td>\n",
       "    </tr>\n",
       "    <tr>\n",
       "      <th>1</th>\n",
       "      <td>20900015</td>\n",
       "      <td>17</td>\n",
       "      <td>Stephen Curry</td>\n",
       "      <td>1</td>\n",
       "      <td>9</td>\n",
       "      <td>31</td>\n",
       "      <td>Step Back Jump shot</td>\n",
       "      <td>2PT Field Goal</td>\n",
       "      <td>Mid-Range</td>\n",
       "      <td>Left Side Center(LC)</td>\n",
       "      <td>16-24 ft.</td>\n",
       "      <td>18</td>\n",
       "      <td>-122</td>\n",
       "      <td>145</td>\n",
       "      <td>1</td>\n",
       "      <td>2009-10-28</td>\n",
       "      <td>GSW</td>\n",
       "      <td>HOU</td>\n",
       "      <td>Regular Season</td>\n",
       "      <td>0.0</td>\n",
       "    </tr>\n",
       "    <tr>\n",
       "      <th>2</th>\n",
       "      <td>20900015</td>\n",
       "      <td>53</td>\n",
       "      <td>Stephen Curry</td>\n",
       "      <td>1</td>\n",
       "      <td>6</td>\n",
       "      <td>2</td>\n",
       "      <td>Jump Shot</td>\n",
       "      <td>2PT Field Goal</td>\n",
       "      <td>In The Paint (Non-RA)</td>\n",
       "      <td>Center(C)</td>\n",
       "      <td>8-16 ft.</td>\n",
       "      <td>14</td>\n",
       "      <td>-60</td>\n",
       "      <td>129</td>\n",
       "      <td>0</td>\n",
       "      <td>2009-10-28</td>\n",
       "      <td>GSW</td>\n",
       "      <td>HOU</td>\n",
       "      <td>Regular Season</td>\n",
       "      <td>-4.0</td>\n",
       "    </tr>\n",
       "    <tr>\n",
       "      <th>3</th>\n",
       "      <td>20900015</td>\n",
       "      <td>141</td>\n",
       "      <td>Stephen Curry</td>\n",
       "      <td>2</td>\n",
       "      <td>9</td>\n",
       "      <td>49</td>\n",
       "      <td>Jump Shot</td>\n",
       "      <td>2PT Field Goal</td>\n",
       "      <td>Mid-Range</td>\n",
       "      <td>Left Side(L)</td>\n",
       "      <td>16-24 ft.</td>\n",
       "      <td>19</td>\n",
       "      <td>-172</td>\n",
       "      <td>82</td>\n",
       "      <td>0</td>\n",
       "      <td>2009-10-28</td>\n",
       "      <td>GSW</td>\n",
       "      <td>HOU</td>\n",
       "      <td>Regular Season</td>\n",
       "      <td>-4.0</td>\n",
       "    </tr>\n",
       "    <tr>\n",
       "      <th>4</th>\n",
       "      <td>20900015</td>\n",
       "      <td>249</td>\n",
       "      <td>Stephen Curry</td>\n",
       "      <td>2</td>\n",
       "      <td>2</td>\n",
       "      <td>19</td>\n",
       "      <td>Jump Shot</td>\n",
       "      <td>2PT Field Goal</td>\n",
       "      <td>Mid-Range</td>\n",
       "      <td>Left Side Center(LC)</td>\n",
       "      <td>16-24 ft.</td>\n",
       "      <td>16</td>\n",
       "      <td>-68</td>\n",
       "      <td>148</td>\n",
       "      <td>0</td>\n",
       "      <td>2009-10-28</td>\n",
       "      <td>GSW</td>\n",
       "      <td>HOU</td>\n",
       "      <td>Regular Season</td>\n",
       "      <td>0.0</td>\n",
       "    </tr>\n",
       "  </tbody>\n",
       "</table>\n",
       "</div>"
      ],
      "text/plain": [
       "    game_id  game_event_id    player_name  period  minutes_remaining  \\\n",
       "0  20900015              4  Stephen Curry       1                 11   \n",
       "1  20900015             17  Stephen Curry       1                  9   \n",
       "2  20900015             53  Stephen Curry       1                  6   \n",
       "3  20900015            141  Stephen Curry       2                  9   \n",
       "4  20900015            249  Stephen Curry       2                  2   \n",
       "\n",
       "   seconds_remaining          action_type       shot_type  \\\n",
       "0                 25            Jump Shot  3PT Field Goal   \n",
       "1                 31  Step Back Jump shot  2PT Field Goal   \n",
       "2                  2            Jump Shot  2PT Field Goal   \n",
       "3                 49            Jump Shot  2PT Field Goal   \n",
       "4                 19            Jump Shot  2PT Field Goal   \n",
       "\n",
       "         shot_zone_basic         shot_zone_area shot_zone_range  \\\n",
       "0      Above the Break 3  Right Side Center(RC)         24+ ft.   \n",
       "1              Mid-Range   Left Side Center(LC)       16-24 ft.   \n",
       "2  In The Paint (Non-RA)              Center(C)        8-16 ft.   \n",
       "3              Mid-Range           Left Side(L)       16-24 ft.   \n",
       "4              Mid-Range   Left Side Center(LC)       16-24 ft.   \n",
       "\n",
       "   shot_distance  loc_x  loc_y  shot_made_flag   game_date  htm  vtm  \\\n",
       "0             26     99    249               0  2009-10-28  GSW  HOU   \n",
       "1             18   -122    145               1  2009-10-28  GSW  HOU   \n",
       "2             14    -60    129               0  2009-10-28  GSW  HOU   \n",
       "3             19   -172     82               0  2009-10-28  GSW  HOU   \n",
       "4             16    -68    148               0  2009-10-28  GSW  HOU   \n",
       "\n",
       "      season_type  scoremargin_before_shot  \n",
       "0  Regular Season                      2.0  \n",
       "1  Regular Season                      0.0  \n",
       "2  Regular Season                     -4.0  \n",
       "3  Regular Season                     -4.0  \n",
       "4  Regular Season                      0.0  "
      ]
     },
     "execution_count": 5,
     "metadata": {},
     "output_type": "execute_result"
    }
   ],
   "source": [
    "df.head()"
   ]
  },
  {
   "cell_type": "code",
   "execution_count": 33,
   "metadata": {},
   "outputs": [
    {
     "data": {
      "text/html": [
       "<div>\n",
       "<style scoped>\n",
       "    .dataframe tbody tr th:only-of-type {\n",
       "        vertical-align: middle;\n",
       "    }\n",
       "\n",
       "    .dataframe tbody tr th {\n",
       "        vertical-align: top;\n",
       "    }\n",
       "\n",
       "    .dataframe thead th {\n",
       "        text-align: right;\n",
       "    }\n",
       "</style>\n",
       "<table border=\"1\" class=\"dataframe\">\n",
       "  <thead>\n",
       "    <tr style=\"text-align: right;\">\n",
       "      <th></th>\n",
       "      <th>game_id</th>\n",
       "      <th>game_event_id</th>\n",
       "      <th>player_name</th>\n",
       "      <th>period</th>\n",
       "      <th>minutes_remaining</th>\n",
       "      <th>seconds_remaining</th>\n",
       "      <th>action_type</th>\n",
       "      <th>shot_type</th>\n",
       "      <th>shot_zone_basic</th>\n",
       "      <th>shot_zone_area</th>\n",
       "      <th>shot_zone_range</th>\n",
       "      <th>shot_distance</th>\n",
       "      <th>loc_x</th>\n",
       "      <th>loc_y</th>\n",
       "      <th>shot_made_flag</th>\n",
       "      <th>game_date</th>\n",
       "      <th>htm</th>\n",
       "      <th>vtm</th>\n",
       "      <th>season_type</th>\n",
       "      <th>scoremargin_before_shot</th>\n",
       "    </tr>\n",
       "  </thead>\n",
       "  <tbody>\n",
       "    <tr>\n",
       "      <th>0</th>\n",
       "      <td>20900015</td>\n",
       "      <td>4</td>\n",
       "      <td>Stephen Curry</td>\n",
       "      <td>1</td>\n",
       "      <td>11</td>\n",
       "      <td>25</td>\n",
       "      <td>Jump Shot</td>\n",
       "      <td>3PT Field Goal</td>\n",
       "      <td>Above the Break 3</td>\n",
       "      <td>Right Side Center(RC)</td>\n",
       "      <td>24+ ft.</td>\n",
       "      <td>26</td>\n",
       "      <td>99</td>\n",
       "      <td>249</td>\n",
       "      <td>0</td>\n",
       "      <td>2009-10-28</td>\n",
       "      <td>GSW</td>\n",
       "      <td>HOU</td>\n",
       "      <td>Regular Season</td>\n",
       "      <td>2.0</td>\n",
       "    </tr>\n",
       "    <tr>\n",
       "      <th>1</th>\n",
       "      <td>20900015</td>\n",
       "      <td>17</td>\n",
       "      <td>Stephen Curry</td>\n",
       "      <td>1</td>\n",
       "      <td>9</td>\n",
       "      <td>31</td>\n",
       "      <td>Step Back Jump shot</td>\n",
       "      <td>2PT Field Goal</td>\n",
       "      <td>Mid-Range</td>\n",
       "      <td>Left Side Center(LC)</td>\n",
       "      <td>16-24 ft.</td>\n",
       "      <td>18</td>\n",
       "      <td>-122</td>\n",
       "      <td>145</td>\n",
       "      <td>1</td>\n",
       "      <td>2009-10-28</td>\n",
       "      <td>GSW</td>\n",
       "      <td>HOU</td>\n",
       "      <td>Regular Season</td>\n",
       "      <td>0.0</td>\n",
       "    </tr>\n",
       "    <tr>\n",
       "      <th>2</th>\n",
       "      <td>20900015</td>\n",
       "      <td>53</td>\n",
       "      <td>Stephen Curry</td>\n",
       "      <td>1</td>\n",
       "      <td>6</td>\n",
       "      <td>2</td>\n",
       "      <td>Jump Shot</td>\n",
       "      <td>2PT Field Goal</td>\n",
       "      <td>In The Paint (Non-RA)</td>\n",
       "      <td>Center(C)</td>\n",
       "      <td>8-16 ft.</td>\n",
       "      <td>14</td>\n",
       "      <td>-60</td>\n",
       "      <td>129</td>\n",
       "      <td>0</td>\n",
       "      <td>2009-10-28</td>\n",
       "      <td>GSW</td>\n",
       "      <td>HOU</td>\n",
       "      <td>Regular Season</td>\n",
       "      <td>-4.0</td>\n",
       "    </tr>\n",
       "    <tr>\n",
       "      <th>3</th>\n",
       "      <td>20900015</td>\n",
       "      <td>141</td>\n",
       "      <td>Stephen Curry</td>\n",
       "      <td>2</td>\n",
       "      <td>9</td>\n",
       "      <td>49</td>\n",
       "      <td>Jump Shot</td>\n",
       "      <td>2PT Field Goal</td>\n",
       "      <td>Mid-Range</td>\n",
       "      <td>Left Side(L)</td>\n",
       "      <td>16-24 ft.</td>\n",
       "      <td>19</td>\n",
       "      <td>-172</td>\n",
       "      <td>82</td>\n",
       "      <td>0</td>\n",
       "      <td>2009-10-28</td>\n",
       "      <td>GSW</td>\n",
       "      <td>HOU</td>\n",
       "      <td>Regular Season</td>\n",
       "      <td>-4.0</td>\n",
       "    </tr>\n",
       "    <tr>\n",
       "      <th>4</th>\n",
       "      <td>20900015</td>\n",
       "      <td>249</td>\n",
       "      <td>Stephen Curry</td>\n",
       "      <td>2</td>\n",
       "      <td>2</td>\n",
       "      <td>19</td>\n",
       "      <td>Jump Shot</td>\n",
       "      <td>2PT Field Goal</td>\n",
       "      <td>Mid-Range</td>\n",
       "      <td>Left Side Center(LC)</td>\n",
       "      <td>16-24 ft.</td>\n",
       "      <td>16</td>\n",
       "      <td>-68</td>\n",
       "      <td>148</td>\n",
       "      <td>0</td>\n",
       "      <td>2009-10-28</td>\n",
       "      <td>GSW</td>\n",
       "      <td>HOU</td>\n",
       "      <td>Regular Season</td>\n",
       "      <td>0.0</td>\n",
       "    </tr>\n",
       "  </tbody>\n",
       "</table>\n",
       "</div>"
      ],
      "text/plain": [
       "    game_id  game_event_id    player_name  period  minutes_remaining  \\\n",
       "0  20900015              4  Stephen Curry       1                 11   \n",
       "1  20900015             17  Stephen Curry       1                  9   \n",
       "2  20900015             53  Stephen Curry       1                  6   \n",
       "3  20900015            141  Stephen Curry       2                  9   \n",
       "4  20900015            249  Stephen Curry       2                  2   \n",
       "\n",
       "   seconds_remaining          action_type       shot_type  \\\n",
       "0                 25            Jump Shot  3PT Field Goal   \n",
       "1                 31  Step Back Jump shot  2PT Field Goal   \n",
       "2                  2            Jump Shot  2PT Field Goal   \n",
       "3                 49            Jump Shot  2PT Field Goal   \n",
       "4                 19            Jump Shot  2PT Field Goal   \n",
       "\n",
       "         shot_zone_basic         shot_zone_area shot_zone_range  \\\n",
       "0      Above the Break 3  Right Side Center(RC)         24+ ft.   \n",
       "1              Mid-Range   Left Side Center(LC)       16-24 ft.   \n",
       "2  In The Paint (Non-RA)              Center(C)        8-16 ft.   \n",
       "3              Mid-Range           Left Side(L)       16-24 ft.   \n",
       "4              Mid-Range   Left Side Center(LC)       16-24 ft.   \n",
       "\n",
       "   shot_distance  loc_x  loc_y  shot_made_flag  game_date  htm  vtm  \\\n",
       "0             26     99    249               0 2009-10-28  GSW  HOU   \n",
       "1             18   -122    145               1 2009-10-28  GSW  HOU   \n",
       "2             14    -60    129               0 2009-10-28  GSW  HOU   \n",
       "3             19   -172     82               0 2009-10-28  GSW  HOU   \n",
       "4             16    -68    148               0 2009-10-28  GSW  HOU   \n",
       "\n",
       "      season_type  scoremargin_before_shot  \n",
       "0  Regular Season                      2.0  \n",
       "1  Regular Season                      0.0  \n",
       "2  Regular Season                     -4.0  \n",
       "3  Regular Season                     -4.0  \n",
       "4  Regular Season                      0.0  "
      ]
     },
     "execution_count": 33,
     "metadata": {},
     "output_type": "execute_result"
    }
   ],
   "source": [
    "df.game_date=pd.to_datetime(df.game_date)\n",
    "test=df[(df.game_date>=pd.to_datetime('2018-10-01'))&(df.game_date<pd.to_datetime('2019-07-01'))]\n",
    "test.shape\n",
    "train=df[df.game_date<pd.to_datetime(\"2018-10-01\")]\n",
    "train.head()"
   ]
  },
  {
   "cell_type": "markdown",
   "metadata": {
    "colab_type": "text",
    "id": "P9Nihzk6y_CF"
   },
   "source": [
    "## 3. Engineer new feature.\n",
    "\n",
    ">Engineer at least **1** new feature, from this list, or your own idea.\n",
    ">\n",
    ">- **Homecourt Advantage**: Is the home team (`htm`) the Golden State Warriors (`GSW`) ?\n",
    ">- **Opponent**: Who is the other team playing the Golden State Warriors?\n",
    ">- **Seconds remaining in the period**: Combine minutes remaining with seconds remaining, to get the total number of seconds remaining in the period.\n",
    ">- **Seconds remaining in the game**: Combine period, and seconds remaining in the period, to get the total number of seconds remaining in the game. A basketball game has 4 periods, each 12 minutes long.\n",
    ">- **Made previous shot**: Was Steph Curry's previous shot successful?\n",
    "\n",
    "    "
   ]
  },
  {
   "cell_type": "code",
   "execution_count": 34,
   "metadata": {
    "colab": {},
    "colab_type": "code",
    "id": "A0pxdFtWy_Bz"
   },
   "outputs": [
    {
     "name": "stderr",
     "output_type": "stream",
     "text": [
      "/home/jesse/anaconda3/lib/python3.7/site-packages/ipykernel_launcher.py:2: SettingWithCopyWarning: \n",
      "A value is trying to be set on a copy of a slice from a DataFrame.\n",
      "Try using .loc[row_indexer,col_indexer] = value instead\n",
      "\n",
      "See the caveats in the documentation: http://pandas.pydata.org/pandas-docs/stable/indexing.html#indexing-view-versus-copy\n",
      "  \n"
     ]
    },
    {
     "data": {
      "text/html": [
       "<div>\n",
       "<style scoped>\n",
       "    .dataframe tbody tr th:only-of-type {\n",
       "        vertical-align: middle;\n",
       "    }\n",
       "\n",
       "    .dataframe tbody tr th {\n",
       "        vertical-align: top;\n",
       "    }\n",
       "\n",
       "    .dataframe thead th {\n",
       "        text-align: right;\n",
       "    }\n",
       "</style>\n",
       "<table border=\"1\" class=\"dataframe\">\n",
       "  <thead>\n",
       "    <tr style=\"text-align: right;\">\n",
       "      <th></th>\n",
       "      <th>game_id</th>\n",
       "      <th>game_event_id</th>\n",
       "      <th>player_name</th>\n",
       "      <th>period</th>\n",
       "      <th>minutes_remaining</th>\n",
       "      <th>seconds_remaining</th>\n",
       "      <th>action_type</th>\n",
       "      <th>shot_type</th>\n",
       "      <th>shot_zone_basic</th>\n",
       "      <th>shot_zone_area</th>\n",
       "      <th>...</th>\n",
       "      <th>shot_distance</th>\n",
       "      <th>loc_x</th>\n",
       "      <th>loc_y</th>\n",
       "      <th>shot_made_flag</th>\n",
       "      <th>game_date</th>\n",
       "      <th>htm</th>\n",
       "      <th>vtm</th>\n",
       "      <th>season_type</th>\n",
       "      <th>scoremargin_before_shot</th>\n",
       "      <th>homecourt_advantage</th>\n",
       "    </tr>\n",
       "  </thead>\n",
       "  <tbody>\n",
       "    <tr>\n",
       "      <th>0</th>\n",
       "      <td>20900015</td>\n",
       "      <td>4</td>\n",
       "      <td>Stephen Curry</td>\n",
       "      <td>1</td>\n",
       "      <td>11</td>\n",
       "      <td>25</td>\n",
       "      <td>Jump Shot</td>\n",
       "      <td>3PT Field Goal</td>\n",
       "      <td>Above the Break 3</td>\n",
       "      <td>Right Side Center(RC)</td>\n",
       "      <td>...</td>\n",
       "      <td>26</td>\n",
       "      <td>99</td>\n",
       "      <td>249</td>\n",
       "      <td>0</td>\n",
       "      <td>2009-10-28</td>\n",
       "      <td>GSW</td>\n",
       "      <td>HOU</td>\n",
       "      <td>Regular Season</td>\n",
       "      <td>2.0</td>\n",
       "      <td>True</td>\n",
       "    </tr>\n",
       "    <tr>\n",
       "      <th>1</th>\n",
       "      <td>20900015</td>\n",
       "      <td>17</td>\n",
       "      <td>Stephen Curry</td>\n",
       "      <td>1</td>\n",
       "      <td>9</td>\n",
       "      <td>31</td>\n",
       "      <td>Step Back Jump shot</td>\n",
       "      <td>2PT Field Goal</td>\n",
       "      <td>Mid-Range</td>\n",
       "      <td>Left Side Center(LC)</td>\n",
       "      <td>...</td>\n",
       "      <td>18</td>\n",
       "      <td>-122</td>\n",
       "      <td>145</td>\n",
       "      <td>1</td>\n",
       "      <td>2009-10-28</td>\n",
       "      <td>GSW</td>\n",
       "      <td>HOU</td>\n",
       "      <td>Regular Season</td>\n",
       "      <td>0.0</td>\n",
       "      <td>True</td>\n",
       "    </tr>\n",
       "    <tr>\n",
       "      <th>2</th>\n",
       "      <td>20900015</td>\n",
       "      <td>53</td>\n",
       "      <td>Stephen Curry</td>\n",
       "      <td>1</td>\n",
       "      <td>6</td>\n",
       "      <td>2</td>\n",
       "      <td>Jump Shot</td>\n",
       "      <td>2PT Field Goal</td>\n",
       "      <td>In The Paint (Non-RA)</td>\n",
       "      <td>Center(C)</td>\n",
       "      <td>...</td>\n",
       "      <td>14</td>\n",
       "      <td>-60</td>\n",
       "      <td>129</td>\n",
       "      <td>0</td>\n",
       "      <td>2009-10-28</td>\n",
       "      <td>GSW</td>\n",
       "      <td>HOU</td>\n",
       "      <td>Regular Season</td>\n",
       "      <td>-4.0</td>\n",
       "      <td>True</td>\n",
       "    </tr>\n",
       "    <tr>\n",
       "      <th>3</th>\n",
       "      <td>20900015</td>\n",
       "      <td>141</td>\n",
       "      <td>Stephen Curry</td>\n",
       "      <td>2</td>\n",
       "      <td>9</td>\n",
       "      <td>49</td>\n",
       "      <td>Jump Shot</td>\n",
       "      <td>2PT Field Goal</td>\n",
       "      <td>Mid-Range</td>\n",
       "      <td>Left Side(L)</td>\n",
       "      <td>...</td>\n",
       "      <td>19</td>\n",
       "      <td>-172</td>\n",
       "      <td>82</td>\n",
       "      <td>0</td>\n",
       "      <td>2009-10-28</td>\n",
       "      <td>GSW</td>\n",
       "      <td>HOU</td>\n",
       "      <td>Regular Season</td>\n",
       "      <td>-4.0</td>\n",
       "      <td>True</td>\n",
       "    </tr>\n",
       "    <tr>\n",
       "      <th>4</th>\n",
       "      <td>20900015</td>\n",
       "      <td>249</td>\n",
       "      <td>Stephen Curry</td>\n",
       "      <td>2</td>\n",
       "      <td>2</td>\n",
       "      <td>19</td>\n",
       "      <td>Jump Shot</td>\n",
       "      <td>2PT Field Goal</td>\n",
       "      <td>Mid-Range</td>\n",
       "      <td>Left Side Center(LC)</td>\n",
       "      <td>...</td>\n",
       "      <td>16</td>\n",
       "      <td>-68</td>\n",
       "      <td>148</td>\n",
       "      <td>0</td>\n",
       "      <td>2009-10-28</td>\n",
       "      <td>GSW</td>\n",
       "      <td>HOU</td>\n",
       "      <td>Regular Season</td>\n",
       "      <td>0.0</td>\n",
       "      <td>True</td>\n",
       "    </tr>\n",
       "  </tbody>\n",
       "</table>\n",
       "<p>5 rows × 21 columns</p>\n",
       "</div>"
      ],
      "text/plain": [
       "    game_id  game_event_id    player_name  period  minutes_remaining  \\\n",
       "0  20900015              4  Stephen Curry       1                 11   \n",
       "1  20900015             17  Stephen Curry       1                  9   \n",
       "2  20900015             53  Stephen Curry       1                  6   \n",
       "3  20900015            141  Stephen Curry       2                  9   \n",
       "4  20900015            249  Stephen Curry       2                  2   \n",
       "\n",
       "   seconds_remaining          action_type       shot_type  \\\n",
       "0                 25            Jump Shot  3PT Field Goal   \n",
       "1                 31  Step Back Jump shot  2PT Field Goal   \n",
       "2                  2            Jump Shot  2PT Field Goal   \n",
       "3                 49            Jump Shot  2PT Field Goal   \n",
       "4                 19            Jump Shot  2PT Field Goal   \n",
       "\n",
       "         shot_zone_basic         shot_zone_area  ... shot_distance  loc_x  \\\n",
       "0      Above the Break 3  Right Side Center(RC)  ...            26     99   \n",
       "1              Mid-Range   Left Side Center(LC)  ...            18   -122   \n",
       "2  In The Paint (Non-RA)              Center(C)  ...            14    -60   \n",
       "3              Mid-Range           Left Side(L)  ...            19   -172   \n",
       "4              Mid-Range   Left Side Center(LC)  ...            16    -68   \n",
       "\n",
       "   loc_y  shot_made_flag  game_date  htm  vtm     season_type  \\\n",
       "0    249               0 2009-10-28  GSW  HOU  Regular Season   \n",
       "1    145               1 2009-10-28  GSW  HOU  Regular Season   \n",
       "2    129               0 2009-10-28  GSW  HOU  Regular Season   \n",
       "3     82               0 2009-10-28  GSW  HOU  Regular Season   \n",
       "4    148               0 2009-10-28  GSW  HOU  Regular Season   \n",
       "\n",
       "  scoremargin_before_shot  homecourt_advantage  \n",
       "0                     2.0                 True  \n",
       "1                     0.0                 True  \n",
       "2                    -4.0                 True  \n",
       "3                    -4.0                 True  \n",
       "4                     0.0                 True  \n",
       "\n",
       "[5 rows x 21 columns]"
      ]
     },
     "execution_count": 34,
     "metadata": {},
     "output_type": "execute_result"
    }
   ],
   "source": [
    "def newFeatures(df):\n",
    "    df['homecourt_advantage']=(df.htm==\"GSW\").copy()\n",
    "    return df\n",
    "\n",
    "    \n",
    "train=newFeatures(train)\n",
    "test=newFeatures(test)\n",
    "train.head()"
   ]
  },
  {
   "cell_type": "code",
   "execution_count": 35,
   "metadata": {},
   "outputs": [
    {
     "data": {
      "text/html": [
       "<div>\n",
       "<style scoped>\n",
       "    .dataframe tbody tr th:only-of-type {\n",
       "        vertical-align: middle;\n",
       "    }\n",
       "\n",
       "    .dataframe tbody tr th {\n",
       "        vertical-align: top;\n",
       "    }\n",
       "\n",
       "    .dataframe thead th {\n",
       "        text-align: right;\n",
       "    }\n",
       "</style>\n",
       "<table border=\"1\" class=\"dataframe\">\n",
       "  <thead>\n",
       "    <tr style=\"text-align: right;\">\n",
       "      <th></th>\n",
       "      <th>game_id</th>\n",
       "      <th>game_event_id</th>\n",
       "      <th>player_name</th>\n",
       "      <th>period</th>\n",
       "      <th>minutes_remaining</th>\n",
       "      <th>seconds_remaining</th>\n",
       "      <th>action_type</th>\n",
       "      <th>shot_type</th>\n",
       "      <th>shot_zone_basic</th>\n",
       "      <th>shot_zone_area</th>\n",
       "      <th>...</th>\n",
       "      <th>shot_distance</th>\n",
       "      <th>loc_x</th>\n",
       "      <th>loc_y</th>\n",
       "      <th>shot_made_flag</th>\n",
       "      <th>game_date</th>\n",
       "      <th>htm</th>\n",
       "      <th>vtm</th>\n",
       "      <th>season_type</th>\n",
       "      <th>scoremargin_before_shot</th>\n",
       "      <th>homecourt_advantage</th>\n",
       "    </tr>\n",
       "  </thead>\n",
       "  <tbody>\n",
       "    <tr>\n",
       "      <th>0</th>\n",
       "      <td>20900015</td>\n",
       "      <td>4</td>\n",
       "      <td>Stephen Curry</td>\n",
       "      <td>1</td>\n",
       "      <td>11</td>\n",
       "      <td>25</td>\n",
       "      <td>Jump Shot</td>\n",
       "      <td>3PT Field Goal</td>\n",
       "      <td>Above the Break 3</td>\n",
       "      <td>Right Side Center(RC)</td>\n",
       "      <td>...</td>\n",
       "      <td>26</td>\n",
       "      <td>99</td>\n",
       "      <td>249</td>\n",
       "      <td>0</td>\n",
       "      <td>2009-10-28</td>\n",
       "      <td>GSW</td>\n",
       "      <td>HOU</td>\n",
       "      <td>Regular Season</td>\n",
       "      <td>2.0</td>\n",
       "      <td>True</td>\n",
       "    </tr>\n",
       "    <tr>\n",
       "      <th>1</th>\n",
       "      <td>20900015</td>\n",
       "      <td>17</td>\n",
       "      <td>Stephen Curry</td>\n",
       "      <td>1</td>\n",
       "      <td>9</td>\n",
       "      <td>31</td>\n",
       "      <td>Step Back Jump shot</td>\n",
       "      <td>2PT Field Goal</td>\n",
       "      <td>Mid-Range</td>\n",
       "      <td>Left Side Center(LC)</td>\n",
       "      <td>...</td>\n",
       "      <td>18</td>\n",
       "      <td>-122</td>\n",
       "      <td>145</td>\n",
       "      <td>1</td>\n",
       "      <td>2009-10-28</td>\n",
       "      <td>GSW</td>\n",
       "      <td>HOU</td>\n",
       "      <td>Regular Season</td>\n",
       "      <td>0.0</td>\n",
       "      <td>True</td>\n",
       "    </tr>\n",
       "    <tr>\n",
       "      <th>2</th>\n",
       "      <td>20900015</td>\n",
       "      <td>53</td>\n",
       "      <td>Stephen Curry</td>\n",
       "      <td>1</td>\n",
       "      <td>6</td>\n",
       "      <td>2</td>\n",
       "      <td>Jump Shot</td>\n",
       "      <td>2PT Field Goal</td>\n",
       "      <td>In The Paint (Non-RA)</td>\n",
       "      <td>Center(C)</td>\n",
       "      <td>...</td>\n",
       "      <td>14</td>\n",
       "      <td>-60</td>\n",
       "      <td>129</td>\n",
       "      <td>0</td>\n",
       "      <td>2009-10-28</td>\n",
       "      <td>GSW</td>\n",
       "      <td>HOU</td>\n",
       "      <td>Regular Season</td>\n",
       "      <td>-4.0</td>\n",
       "      <td>True</td>\n",
       "    </tr>\n",
       "    <tr>\n",
       "      <th>3</th>\n",
       "      <td>20900015</td>\n",
       "      <td>141</td>\n",
       "      <td>Stephen Curry</td>\n",
       "      <td>2</td>\n",
       "      <td>9</td>\n",
       "      <td>49</td>\n",
       "      <td>Jump Shot</td>\n",
       "      <td>2PT Field Goal</td>\n",
       "      <td>Mid-Range</td>\n",
       "      <td>Left Side(L)</td>\n",
       "      <td>...</td>\n",
       "      <td>19</td>\n",
       "      <td>-172</td>\n",
       "      <td>82</td>\n",
       "      <td>0</td>\n",
       "      <td>2009-10-28</td>\n",
       "      <td>GSW</td>\n",
       "      <td>HOU</td>\n",
       "      <td>Regular Season</td>\n",
       "      <td>-4.0</td>\n",
       "      <td>True</td>\n",
       "    </tr>\n",
       "    <tr>\n",
       "      <th>4</th>\n",
       "      <td>20900015</td>\n",
       "      <td>249</td>\n",
       "      <td>Stephen Curry</td>\n",
       "      <td>2</td>\n",
       "      <td>2</td>\n",
       "      <td>19</td>\n",
       "      <td>Jump Shot</td>\n",
       "      <td>2PT Field Goal</td>\n",
       "      <td>Mid-Range</td>\n",
       "      <td>Left Side Center(LC)</td>\n",
       "      <td>...</td>\n",
       "      <td>16</td>\n",
       "      <td>-68</td>\n",
       "      <td>148</td>\n",
       "      <td>0</td>\n",
       "      <td>2009-10-28</td>\n",
       "      <td>GSW</td>\n",
       "      <td>HOU</td>\n",
       "      <td>Regular Season</td>\n",
       "      <td>0.0</td>\n",
       "      <td>True</td>\n",
       "    </tr>\n",
       "  </tbody>\n",
       "</table>\n",
       "<p>5 rows × 21 columns</p>\n",
       "</div>"
      ],
      "text/plain": [
       "    game_id  game_event_id    player_name  period  minutes_remaining  \\\n",
       "0  20900015              4  Stephen Curry       1                 11   \n",
       "1  20900015             17  Stephen Curry       1                  9   \n",
       "2  20900015             53  Stephen Curry       1                  6   \n",
       "3  20900015            141  Stephen Curry       2                  9   \n",
       "4  20900015            249  Stephen Curry       2                  2   \n",
       "\n",
       "   seconds_remaining          action_type       shot_type  \\\n",
       "0                 25            Jump Shot  3PT Field Goal   \n",
       "1                 31  Step Back Jump shot  2PT Field Goal   \n",
       "2                  2            Jump Shot  2PT Field Goal   \n",
       "3                 49            Jump Shot  2PT Field Goal   \n",
       "4                 19            Jump Shot  2PT Field Goal   \n",
       "\n",
       "         shot_zone_basic         shot_zone_area  ... shot_distance  loc_x  \\\n",
       "0      Above the Break 3  Right Side Center(RC)  ...            26     99   \n",
       "1              Mid-Range   Left Side Center(LC)  ...            18   -122   \n",
       "2  In The Paint (Non-RA)              Center(C)  ...            14    -60   \n",
       "3              Mid-Range           Left Side(L)  ...            19   -172   \n",
       "4              Mid-Range   Left Side Center(LC)  ...            16    -68   \n",
       "\n",
       "   loc_y  shot_made_flag  game_date  htm  vtm     season_type  \\\n",
       "0    249               0 2009-10-28  GSW  HOU  Regular Season   \n",
       "1    145               1 2009-10-28  GSW  HOU  Regular Season   \n",
       "2    129               0 2009-10-28  GSW  HOU  Regular Season   \n",
       "3     82               0 2009-10-28  GSW  HOU  Regular Season   \n",
       "4    148               0 2009-10-28  GSW  HOU  Regular Season   \n",
       "\n",
       "  scoremargin_before_shot  homecourt_advantage  \n",
       "0                     2.0                 True  \n",
       "1                     0.0                 True  \n",
       "2                    -4.0                 True  \n",
       "3                    -4.0                 True  \n",
       "4                     0.0                 True  \n",
       "\n",
       "[5 rows x 21 columns]"
      ]
     },
     "execution_count": 35,
     "metadata": {},
     "output_type": "execute_result"
    }
   ],
   "source": [
    "train.head()"
   ]
  },
  {
   "cell_type": "markdown",
   "metadata": {
    "colab_type": "text",
    "id": "eLs7pt7NFJLF"
   },
   "source": [
    "## **4. Decide how to validate** your model. \n",
    "\n",
    ">Choose one of the following options. Any of these options are good. You are not graded on which you choose.\n",
    ">\n",
    ">- **Train/validate/test split: train on the 2009-10 season through 2016-17 season, validate with the 2017-18 season.** You'll know you've split the data correctly when your train set has 11,081 observations, and your validation set has 1,168 observations.\n",
    ">- **Train/validate/test split: random 80/20%** train/validate split.\n",
    ">- **Cross-validation** with independent test set. You may use any scikit-learn cross-validation method."
   ]
  },
  {
   "cell_type": "code",
   "execution_count": 36,
   "metadata": {},
   "outputs": [],
   "source": [
    "from sklearn.model_selection import train_test_split\n",
    "train, validate = train_test_split(train)"
   ]
  },
  {
   "cell_type": "code",
   "execution_count": 0,
   "metadata": {
    "colab": {},
    "colab_type": "code",
    "id": "LJ58CceDISXR"
   },
   "outputs": [],
   "source": []
  },
  {
   "cell_type": "markdown",
   "metadata": {
    "colab_type": "text",
    "id": "oQ2lWlu7JPRt"
   },
   "source": [
    "## 5. Use a scikit-learn pipeline to encode categoricals and fit a Decision Tree or Random Forest model."
   ]
  },
  {
   "cell_type": "code",
   "execution_count": 41,
   "metadata": {
    "colab": {},
    "colab_type": "code",
    "id": "X2S8mUuJy_CB"
   },
   "outputs": [
    {
     "name": "stdout",
     "output_type": "stream",
     "text": [
      "1 features\n"
     ]
    },
    {
     "name": "stderr",
     "output_type": "stream",
     "text": [
      "/home/jesse/anaconda3/lib/python3.7/site-packages/sklearn/feature_selection/univariate_selection.py:299: RuntimeWarning: invalid value encountered in true_divide\n",
      "  corr /= X_norms\n",
      "/home/jesse/anaconda3/lib/python3.7/site-packages/scipy/stats/_distn_infrastructure.py:901: RuntimeWarning: invalid value encountered in greater\n",
      "  return (a < x) & (x < b)\n",
      "/home/jesse/anaconda3/lib/python3.7/site-packages/scipy/stats/_distn_infrastructure.py:901: RuntimeWarning: invalid value encountered in less\n",
      "  return (a < x) & (x < b)\n",
      "/home/jesse/anaconda3/lib/python3.7/site-packages/scipy/stats/_distn_infrastructure.py:1892: RuntimeWarning: invalid value encountered in less_equal\n",
      "  cond2 = cond0 & (x <= _a)\n"
     ]
    },
    {
     "name": "stdout",
     "output_type": "stream",
     "text": [
      "Validate Accuracy Score: 0.6591576885406464\n",
      "2 features\n"
     ]
    },
    {
     "name": "stderr",
     "output_type": "stream",
     "text": [
      "/home/jesse/anaconda3/lib/python3.7/site-packages/sklearn/feature_selection/univariate_selection.py:299: RuntimeWarning: invalid value encountered in true_divide\n",
      "  corr /= X_norms\n",
      "/home/jesse/anaconda3/lib/python3.7/site-packages/scipy/stats/_distn_infrastructure.py:901: RuntimeWarning: invalid value encountered in greater\n",
      "  return (a < x) & (x < b)\n",
      "/home/jesse/anaconda3/lib/python3.7/site-packages/scipy/stats/_distn_infrastructure.py:901: RuntimeWarning: invalid value encountered in less\n",
      "  return (a < x) & (x < b)\n",
      "/home/jesse/anaconda3/lib/python3.7/site-packages/scipy/stats/_distn_infrastructure.py:1892: RuntimeWarning: invalid value encountered in less_equal\n",
      "  cond2 = cond0 & (x <= _a)\n"
     ]
    },
    {
     "name": "stdout",
     "output_type": "stream",
     "text": [
      "Validate Accuracy Score: 0.6542605288932419\n",
      "3 features\n"
     ]
    },
    {
     "name": "stderr",
     "output_type": "stream",
     "text": [
      "/home/jesse/anaconda3/lib/python3.7/site-packages/sklearn/feature_selection/univariate_selection.py:299: RuntimeWarning: invalid value encountered in true_divide\n",
      "  corr /= X_norms\n",
      "/home/jesse/anaconda3/lib/python3.7/site-packages/scipy/stats/_distn_infrastructure.py:901: RuntimeWarning: invalid value encountered in greater\n",
      "  return (a < x) & (x < b)\n",
      "/home/jesse/anaconda3/lib/python3.7/site-packages/scipy/stats/_distn_infrastructure.py:901: RuntimeWarning: invalid value encountered in less\n",
      "  return (a < x) & (x < b)\n",
      "/home/jesse/anaconda3/lib/python3.7/site-packages/scipy/stats/_distn_infrastructure.py:1892: RuntimeWarning: invalid value encountered in less_equal\n",
      "  cond2 = cond0 & (x <= _a)\n"
     ]
    },
    {
     "name": "stdout",
     "output_type": "stream",
     "text": [
      "Validate Accuracy Score: 0.5968005223636957\n",
      "4 features\n"
     ]
    },
    {
     "name": "stderr",
     "output_type": "stream",
     "text": [
      "/home/jesse/anaconda3/lib/python3.7/site-packages/sklearn/feature_selection/univariate_selection.py:299: RuntimeWarning: invalid value encountered in true_divide\n",
      "  corr /= X_norms\n",
      "/home/jesse/anaconda3/lib/python3.7/site-packages/scipy/stats/_distn_infrastructure.py:901: RuntimeWarning: invalid value encountered in greater\n",
      "  return (a < x) & (x < b)\n",
      "/home/jesse/anaconda3/lib/python3.7/site-packages/scipy/stats/_distn_infrastructure.py:901: RuntimeWarning: invalid value encountered in less\n",
      "  return (a < x) & (x < b)\n",
      "/home/jesse/anaconda3/lib/python3.7/site-packages/scipy/stats/_distn_infrastructure.py:1892: RuntimeWarning: invalid value encountered in less_equal\n",
      "  cond2 = cond0 & (x <= _a)\n"
     ]
    },
    {
     "name": "stdout",
     "output_type": "stream",
     "text": [
      "Validate Accuracy Score: 0.594515181194907\n",
      "5 features\n"
     ]
    },
    {
     "name": "stderr",
     "output_type": "stream",
     "text": [
      "/home/jesse/anaconda3/lib/python3.7/site-packages/sklearn/feature_selection/univariate_selection.py:299: RuntimeWarning: invalid value encountered in true_divide\n",
      "  corr /= X_norms\n",
      "/home/jesse/anaconda3/lib/python3.7/site-packages/scipy/stats/_distn_infrastructure.py:901: RuntimeWarning: invalid value encountered in greater\n",
      "  return (a < x) & (x < b)\n",
      "/home/jesse/anaconda3/lib/python3.7/site-packages/scipy/stats/_distn_infrastructure.py:901: RuntimeWarning: invalid value encountered in less\n",
      "  return (a < x) & (x < b)\n",
      "/home/jesse/anaconda3/lib/python3.7/site-packages/scipy/stats/_distn_infrastructure.py:1892: RuntimeWarning: invalid value encountered in less_equal\n",
      "  cond2 = cond0 & (x <= _a)\n"
     ]
    },
    {
     "name": "stdout",
     "output_type": "stream",
     "text": [
      "Validate Accuracy Score: 0.5958210904342148\n",
      "6 features\n"
     ]
    },
    {
     "name": "stderr",
     "output_type": "stream",
     "text": [
      "/home/jesse/anaconda3/lib/python3.7/site-packages/sklearn/feature_selection/univariate_selection.py:299: RuntimeWarning: invalid value encountered in true_divide\n",
      "  corr /= X_norms\n",
      "/home/jesse/anaconda3/lib/python3.7/site-packages/scipy/stats/_distn_infrastructure.py:901: RuntimeWarning: invalid value encountered in greater\n",
      "  return (a < x) & (x < b)\n",
      "/home/jesse/anaconda3/lib/python3.7/site-packages/scipy/stats/_distn_infrastructure.py:901: RuntimeWarning: invalid value encountered in less\n",
      "  return (a < x) & (x < b)\n",
      "/home/jesse/anaconda3/lib/python3.7/site-packages/scipy/stats/_distn_infrastructure.py:1892: RuntimeWarning: invalid value encountered in less_equal\n",
      "  cond2 = cond0 & (x <= _a)\n"
     ]
    },
    {
     "name": "stdout",
     "output_type": "stream",
     "text": [
      "Validate Accuracy Score: 0.5873326803787137\n",
      "7 features\n"
     ]
    },
    {
     "name": "stderr",
     "output_type": "stream",
     "text": [
      "/home/jesse/anaconda3/lib/python3.7/site-packages/sklearn/feature_selection/univariate_selection.py:299: RuntimeWarning: invalid value encountered in true_divide\n",
      "  corr /= X_norms\n",
      "/home/jesse/anaconda3/lib/python3.7/site-packages/scipy/stats/_distn_infrastructure.py:901: RuntimeWarning: invalid value encountered in greater\n",
      "  return (a < x) & (x < b)\n",
      "/home/jesse/anaconda3/lib/python3.7/site-packages/scipy/stats/_distn_infrastructure.py:901: RuntimeWarning: invalid value encountered in less\n",
      "  return (a < x) & (x < b)\n",
      "/home/jesse/anaconda3/lib/python3.7/site-packages/scipy/stats/_distn_infrastructure.py:1892: RuntimeWarning: invalid value encountered in less_equal\n",
      "  cond2 = cond0 & (x <= _a)\n"
     ]
    },
    {
     "name": "stdout",
     "output_type": "stream",
     "text": [
      "Validate Accuracy Score: 0.6072477962781586\n",
      "8 features\n"
     ]
    },
    {
     "name": "stderr",
     "output_type": "stream",
     "text": [
      "/home/jesse/anaconda3/lib/python3.7/site-packages/sklearn/feature_selection/univariate_selection.py:299: RuntimeWarning: invalid value encountered in true_divide\n",
      "  corr /= X_norms\n",
      "/home/jesse/anaconda3/lib/python3.7/site-packages/scipy/stats/_distn_infrastructure.py:901: RuntimeWarning: invalid value encountered in greater\n",
      "  return (a < x) & (x < b)\n",
      "/home/jesse/anaconda3/lib/python3.7/site-packages/scipy/stats/_distn_infrastructure.py:901: RuntimeWarning: invalid value encountered in less\n",
      "  return (a < x) & (x < b)\n",
      "/home/jesse/anaconda3/lib/python3.7/site-packages/scipy/stats/_distn_infrastructure.py:1892: RuntimeWarning: invalid value encountered in less_equal\n",
      "  cond2 = cond0 & (x <= _a)\n"
     ]
    },
    {
     "name": "stdout",
     "output_type": "stream",
     "text": [
      "Validate Accuracy Score: 0.6137773424746981\n",
      "9 features\n"
     ]
    },
    {
     "name": "stderr",
     "output_type": "stream",
     "text": [
      "/home/jesse/anaconda3/lib/python3.7/site-packages/sklearn/feature_selection/univariate_selection.py:299: RuntimeWarning: invalid value encountered in true_divide\n",
      "  corr /= X_norms\n",
      "/home/jesse/anaconda3/lib/python3.7/site-packages/scipy/stats/_distn_infrastructure.py:901: RuntimeWarning: invalid value encountered in greater\n",
      "  return (a < x) & (x < b)\n",
      "/home/jesse/anaconda3/lib/python3.7/site-packages/scipy/stats/_distn_infrastructure.py:901: RuntimeWarning: invalid value encountered in less\n",
      "  return (a < x) & (x < b)\n",
      "/home/jesse/anaconda3/lib/python3.7/site-packages/scipy/stats/_distn_infrastructure.py:1892: RuntimeWarning: invalid value encountered in less_equal\n",
      "  cond2 = cond0 & (x <= _a)\n"
     ]
    },
    {
     "name": "stdout",
     "output_type": "stream",
     "text": [
      "Validate Accuracy Score: 0.6176950701926216\n",
      "10 features\n"
     ]
    },
    {
     "name": "stderr",
     "output_type": "stream",
     "text": [
      "/home/jesse/anaconda3/lib/python3.7/site-packages/sklearn/feature_selection/univariate_selection.py:299: RuntimeWarning: invalid value encountered in true_divide\n",
      "  corr /= X_norms\n",
      "/home/jesse/anaconda3/lib/python3.7/site-packages/scipy/stats/_distn_infrastructure.py:901: RuntimeWarning: invalid value encountered in greater\n",
      "  return (a < x) & (x < b)\n",
      "/home/jesse/anaconda3/lib/python3.7/site-packages/scipy/stats/_distn_infrastructure.py:901: RuntimeWarning: invalid value encountered in less\n",
      "  return (a < x) & (x < b)\n",
      "/home/jesse/anaconda3/lib/python3.7/site-packages/scipy/stats/_distn_infrastructure.py:1892: RuntimeWarning: invalid value encountered in less_equal\n",
      "  cond2 = cond0 & (x <= _a)\n"
     ]
    },
    {
     "name": "stdout",
     "output_type": "stream",
     "text": [
      "Validate Accuracy Score: 0.6121449559255632\n",
      "11 features\n"
     ]
    },
    {
     "name": "stderr",
     "output_type": "stream",
     "text": [
      "/home/jesse/anaconda3/lib/python3.7/site-packages/sklearn/feature_selection/univariate_selection.py:299: RuntimeWarning: invalid value encountered in true_divide\n",
      "  corr /= X_norms\n",
      "/home/jesse/anaconda3/lib/python3.7/site-packages/scipy/stats/_distn_infrastructure.py:901: RuntimeWarning: invalid value encountered in greater\n",
      "  return (a < x) & (x < b)\n",
      "/home/jesse/anaconda3/lib/python3.7/site-packages/scipy/stats/_distn_infrastructure.py:901: RuntimeWarning: invalid value encountered in less\n",
      "  return (a < x) & (x < b)\n",
      "/home/jesse/anaconda3/lib/python3.7/site-packages/scipy/stats/_distn_infrastructure.py:1892: RuntimeWarning: invalid value encountered in less_equal\n",
      "  cond2 = cond0 & (x <= _a)\n"
     ]
    },
    {
     "name": "stdout",
     "output_type": "stream",
     "text": [
      "Validate Accuracy Score: 0.6327130264446621\n",
      "12 features\n"
     ]
    },
    {
     "name": "stderr",
     "output_type": "stream",
     "text": [
      "/home/jesse/anaconda3/lib/python3.7/site-packages/sklearn/feature_selection/univariate_selection.py:299: RuntimeWarning: invalid value encountered in true_divide\n",
      "  corr /= X_norms\n",
      "/home/jesse/anaconda3/lib/python3.7/site-packages/scipy/stats/_distn_infrastructure.py:901: RuntimeWarning: invalid value encountered in greater\n",
      "  return (a < x) & (x < b)\n",
      "/home/jesse/anaconda3/lib/python3.7/site-packages/scipy/stats/_distn_infrastructure.py:901: RuntimeWarning: invalid value encountered in less\n",
      "  return (a < x) & (x < b)\n",
      "/home/jesse/anaconda3/lib/python3.7/site-packages/scipy/stats/_distn_infrastructure.py:1892: RuntimeWarning: invalid value encountered in less_equal\n",
      "  cond2 = cond0 & (x <= _a)\n"
     ]
    },
    {
     "name": "stdout",
     "output_type": "stream",
     "text": [
      "Validate Accuracy Score: 0.6274893894874306\n",
      "13 features\n"
     ]
    },
    {
     "name": "stderr",
     "output_type": "stream",
     "text": [
      "/home/jesse/anaconda3/lib/python3.7/site-packages/sklearn/feature_selection/univariate_selection.py:299: RuntimeWarning: invalid value encountered in true_divide\n",
      "  corr /= X_norms\n",
      "/home/jesse/anaconda3/lib/python3.7/site-packages/scipy/stats/_distn_infrastructure.py:901: RuntimeWarning: invalid value encountered in greater\n",
      "  return (a < x) & (x < b)\n",
      "/home/jesse/anaconda3/lib/python3.7/site-packages/scipy/stats/_distn_infrastructure.py:901: RuntimeWarning: invalid value encountered in less\n",
      "  return (a < x) & (x < b)\n",
      "/home/jesse/anaconda3/lib/python3.7/site-packages/scipy/stats/_distn_infrastructure.py:1892: RuntimeWarning: invalid value encountered in less_equal\n",
      "  cond2 = cond0 & (x <= _a)\n"
     ]
    },
    {
     "name": "stdout",
     "output_type": "stream",
     "text": [
      "Validate Accuracy Score: 0.6395690499510284\n",
      "14 features\n"
     ]
    },
    {
     "name": "stderr",
     "output_type": "stream",
     "text": [
      "/home/jesse/anaconda3/lib/python3.7/site-packages/sklearn/feature_selection/univariate_selection.py:299: RuntimeWarning: invalid value encountered in true_divide\n",
      "  corr /= X_norms\n",
      "/home/jesse/anaconda3/lib/python3.7/site-packages/scipy/stats/_distn_infrastructure.py:901: RuntimeWarning: invalid value encountered in greater\n",
      "  return (a < x) & (x < b)\n",
      "/home/jesse/anaconda3/lib/python3.7/site-packages/scipy/stats/_distn_infrastructure.py:901: RuntimeWarning: invalid value encountered in less\n",
      "  return (a < x) & (x < b)\n",
      "/home/jesse/anaconda3/lib/python3.7/site-packages/scipy/stats/_distn_infrastructure.py:1892: RuntimeWarning: invalid value encountered in less_equal\n",
      "  cond2 = cond0 & (x <= _a)\n"
     ]
    },
    {
     "name": "stdout",
     "output_type": "stream",
     "text": [
      "Validate Accuracy Score: 0.6382631407117205\n",
      "15 features\n"
     ]
    },
    {
     "name": "stderr",
     "output_type": "stream",
     "text": [
      "/home/jesse/anaconda3/lib/python3.7/site-packages/sklearn/feature_selection/univariate_selection.py:299: RuntimeWarning: invalid value encountered in true_divide\n",
      "  corr /= X_norms\n",
      "/home/jesse/anaconda3/lib/python3.7/site-packages/scipy/stats/_distn_infrastructure.py:901: RuntimeWarning: invalid value encountered in greater\n",
      "  return (a < x) & (x < b)\n",
      "/home/jesse/anaconda3/lib/python3.7/site-packages/scipy/stats/_distn_infrastructure.py:901: RuntimeWarning: invalid value encountered in less\n",
      "  return (a < x) & (x < b)\n",
      "/home/jesse/anaconda3/lib/python3.7/site-packages/scipy/stats/_distn_infrastructure.py:1892: RuntimeWarning: invalid value encountered in less_equal\n",
      "  cond2 = cond0 & (x <= _a)\n"
     ]
    },
    {
     "name": "stdout",
     "output_type": "stream",
     "text": [
      "Validate Accuracy Score: 0.6454456415279138\n",
      "16 features\n"
     ]
    },
    {
     "name": "stderr",
     "output_type": "stream",
     "text": [
      "/home/jesse/anaconda3/lib/python3.7/site-packages/sklearn/feature_selection/univariate_selection.py:299: RuntimeWarning: invalid value encountered in true_divide\n",
      "  corr /= X_norms\n",
      "/home/jesse/anaconda3/lib/python3.7/site-packages/scipy/stats/_distn_infrastructure.py:901: RuntimeWarning: invalid value encountered in greater\n",
      "  return (a < x) & (x < b)\n",
      "/home/jesse/anaconda3/lib/python3.7/site-packages/scipy/stats/_distn_infrastructure.py:901: RuntimeWarning: invalid value encountered in less\n",
      "  return (a < x) & (x < b)\n",
      "/home/jesse/anaconda3/lib/python3.7/site-packages/scipy/stats/_distn_infrastructure.py:1892: RuntimeWarning: invalid value encountered in less_equal\n",
      "  cond2 = cond0 & (x <= _a)\n"
     ]
    },
    {
     "name": "stdout",
     "output_type": "stream",
     "text": [
      "Validate Accuracy Score: 0.6392425726412014\n",
      "17 features\n"
     ]
    },
    {
     "name": "stderr",
     "output_type": "stream",
     "text": [
      "/home/jesse/anaconda3/lib/python3.7/site-packages/sklearn/feature_selection/univariate_selection.py:299: RuntimeWarning: invalid value encountered in true_divide\n",
      "  corr /= X_norms\n",
      "/home/jesse/anaconda3/lib/python3.7/site-packages/scipy/stats/_distn_infrastructure.py:901: RuntimeWarning: invalid value encountered in greater\n",
      "  return (a < x) & (x < b)\n",
      "/home/jesse/anaconda3/lib/python3.7/site-packages/scipy/stats/_distn_infrastructure.py:901: RuntimeWarning: invalid value encountered in less\n",
      "  return (a < x) & (x < b)\n",
      "/home/jesse/anaconda3/lib/python3.7/site-packages/scipy/stats/_distn_infrastructure.py:1892: RuntimeWarning: invalid value encountered in less_equal\n",
      "  cond2 = cond0 & (x <= _a)\n"
     ]
    },
    {
     "name": "stdout",
     "output_type": "stream",
     "text": [
      "Validate Accuracy Score: 0.6333659810643161\n",
      "18 features\n"
     ]
    },
    {
     "name": "stderr",
     "output_type": "stream",
     "text": [
      "/home/jesse/anaconda3/lib/python3.7/site-packages/sklearn/feature_selection/univariate_selection.py:299: RuntimeWarning: invalid value encountered in true_divide\n",
      "  corr /= X_norms\n",
      "/home/jesse/anaconda3/lib/python3.7/site-packages/scipy/stats/_distn_infrastructure.py:901: RuntimeWarning: invalid value encountered in greater\n",
      "  return (a < x) & (x < b)\n",
      "/home/jesse/anaconda3/lib/python3.7/site-packages/scipy/stats/_distn_infrastructure.py:901: RuntimeWarning: invalid value encountered in less\n",
      "  return (a < x) & (x < b)\n",
      "/home/jesse/anaconda3/lib/python3.7/site-packages/scipy/stats/_distn_infrastructure.py:1892: RuntimeWarning: invalid value encountered in less_equal\n",
      "  cond2 = cond0 & (x <= _a)\n"
     ]
    },
    {
     "name": "stdout",
     "output_type": "stream",
     "text": [
      "Validate Accuracy Score: 0.6376101860920667\n",
      "19 features\n"
     ]
    },
    {
     "name": "stderr",
     "output_type": "stream",
     "text": [
      "/home/jesse/anaconda3/lib/python3.7/site-packages/sklearn/feature_selection/univariate_selection.py:299: RuntimeWarning: invalid value encountered in true_divide\n",
      "  corr /= X_norms\n",
      "/home/jesse/anaconda3/lib/python3.7/site-packages/scipy/stats/_distn_infrastructure.py:901: RuntimeWarning: invalid value encountered in greater\n",
      "  return (a < x) & (x < b)\n",
      "/home/jesse/anaconda3/lib/python3.7/site-packages/scipy/stats/_distn_infrastructure.py:901: RuntimeWarning: invalid value encountered in less\n",
      "  return (a < x) & (x < b)\n",
      "/home/jesse/anaconda3/lib/python3.7/site-packages/scipy/stats/_distn_infrastructure.py:1892: RuntimeWarning: invalid value encountered in less_equal\n",
      "  cond2 = cond0 & (x <= _a)\n"
     ]
    },
    {
     "name": "stdout",
     "output_type": "stream",
     "text": [
      "Validate Accuracy Score: 0.6425073457394711\n"
     ]
    }
   ],
   "source": [
    "import category_encoders as ce\n",
    "from sklearn.ensemble import RandomForestClassifier\n",
    "from sklearn.impute import SimpleImputer\n",
    "from sklearn.pipeline import make_pipeline\n",
    "from sklearn.feature_selection import f_regression, SelectKBest\n",
    "from sklearn.preprocessing import StandardScaler\n",
    "\n",
    "target='shot_made_flag'\n",
    "\n",
    "\n",
    "def getXandY(df):\n",
    "    X=df.copy().drop(columns=[target,'game_date'])\n",
    "    y=df[target]\n",
    "    return X, y\n",
    "    \n",
    "X_train, y_train= getXandY(train)\n",
    "X_val, y_val=getXandY(validate)\n",
    "X_test, y_test=getXandY(test)\n",
    "\n",
    "\n",
    "for k in range(1,len(X_train.columns)+1):\n",
    "  print(f'{k} features')\n",
    " \n",
    "\n",
    "  pipeline = make_pipeline(\n",
    "    ce.OrdinalEncoder(),\n",
    "    StandardScaler(),\n",
    "    SimpleImputer(strategy='median'), \n",
    "    SelectKBest(score_func=f_regression, k=k),\n",
    "    RandomForestClassifier(random_state=42, n_estimators=100, n_jobs=-1)\n",
    "  )\n",
    "\n",
    "  pipeline.fit(X_train, y_train)\n",
    "  print(f'Validate Accuracy Score: {pipeline.score(X_val, y_val)}')    \n",
    "\n",
    "#so with one feature I get 65% validation, but I want to know if I can do better. \n"
   ]
  },
  {
   "cell_type": "markdown",
   "metadata": {
    "colab_type": "text",
    "id": "8kJXxFpty_CH"
   },
   "source": [
    "## 6.Get your model's validation accuracy\n",
    "\n",
    "> (Multiple times if you try multiple iterations.)"
   ]
  },
  {
   "cell_type": "code",
   "execution_count": 46,
   "metadata": {
    "colab": {},
    "colab_type": "code",
    "id": "7560JKvxy_CJ"
   },
   "outputs": [
    {
     "name": "stdout",
     "output_type": "stream",
     "text": [
      "Fitting 5 folds for each of 100 candidates, totalling 500 fits\n"
     ]
    },
    {
     "name": "stderr",
     "output_type": "stream",
     "text": [
      "[Parallel(n_jobs=-1)]: Using backend LokyBackend with 6 concurrent workers.\n",
      "[Parallel(n_jobs=-1)]: Done   1 tasks      | elapsed:    2.8s\n",
      "[Parallel(n_jobs=-1)]: Done   6 tasks      | elapsed:    3.7s\n",
      "[Parallel(n_jobs=-1)]: Done  13 tasks      | elapsed:    6.0s\n",
      "[Parallel(n_jobs=-1)]: Done  20 tasks      | elapsed:    8.8s\n",
      "[Parallel(n_jobs=-1)]: Done  29 tasks      | elapsed:   11.8s\n",
      "[Parallel(n_jobs=-1)]: Done  38 tasks      | elapsed:   15.4s\n",
      "[Parallel(n_jobs=-1)]: Done  49 tasks      | elapsed:   18.1s\n",
      "[Parallel(n_jobs=-1)]: Done  60 tasks      | elapsed:   21.1s\n",
      "[Parallel(n_jobs=-1)]: Done  73 tasks      | elapsed:   24.5s\n",
      "[Parallel(n_jobs=-1)]: Done  86 tasks      | elapsed:   29.3s\n",
      "[Parallel(n_jobs=-1)]: Done 101 tasks      | elapsed:   34.2s\n",
      "[Parallel(n_jobs=-1)]: Done 116 tasks      | elapsed:   38.9s\n",
      "[Parallel(n_jobs=-1)]: Done 133 tasks      | elapsed:   44.0s\n",
      "[Parallel(n_jobs=-1)]: Done 150 tasks      | elapsed:   48.7s\n",
      "[Parallel(n_jobs=-1)]: Done 169 tasks      | elapsed:   55.0s\n",
      "[Parallel(n_jobs=-1)]: Done 188 tasks      | elapsed:  1.0min\n",
      "[Parallel(n_jobs=-1)]: Done 209 tasks      | elapsed:  1.1min\n",
      "[Parallel(n_jobs=-1)]: Done 230 tasks      | elapsed:  1.2min\n",
      "[Parallel(n_jobs=-1)]: Done 253 tasks      | elapsed:  1.3min\n",
      "[Parallel(n_jobs=-1)]: Done 276 tasks      | elapsed:  1.4min\n",
      "[Parallel(n_jobs=-1)]: Done 301 tasks      | elapsed:  1.6min\n",
      "[Parallel(n_jobs=-1)]: Done 326 tasks      | elapsed:  1.7min\n",
      "[Parallel(n_jobs=-1)]: Done 353 tasks      | elapsed:  1.8min\n",
      "[Parallel(n_jobs=-1)]: Done 380 tasks      | elapsed:  1.9min\n",
      "[Parallel(n_jobs=-1)]: Done 409 tasks      | elapsed:  2.1min\n",
      "[Parallel(n_jobs=-1)]: Done 438 tasks      | elapsed:  2.2min\n",
      "[Parallel(n_jobs=-1)]: Done 469 tasks      | elapsed:  2.3min\n",
      "[Parallel(n_jobs=-1)]: Done 500 out of 500 | elapsed:  2.5min finished\n",
      "/home/jesse/anaconda3/lib/python3.7/site-packages/sklearn/feature_selection/univariate_selection.py:299: RuntimeWarning: invalid value encountered in true_divide\n",
      "  corr /= X_norms\n",
      "/home/jesse/anaconda3/lib/python3.7/site-packages/scipy/stats/_distn_infrastructure.py:901: RuntimeWarning: invalid value encountered in greater\n",
      "  return (a < x) & (x < b)\n",
      "/home/jesse/anaconda3/lib/python3.7/site-packages/scipy/stats/_distn_infrastructure.py:901: RuntimeWarning: invalid value encountered in less\n",
      "  return (a < x) & (x < b)\n",
      "/home/jesse/anaconda3/lib/python3.7/site-packages/scipy/stats/_distn_infrastructure.py:1892: RuntimeWarning: invalid value encountered in less_equal\n",
      "  cond2 = cond0 & (x <= _a)\n"
     ]
    },
    {
     "data": {
      "text/plain": [
       "RandomizedSearchCV(cv=5, error_score='raise-deprecating',\n",
       "                   estimator=Pipeline(memory=None,\n",
       "                                      steps=[('ordinalencoder',\n",
       "                                              OrdinalEncoder(cols=None,\n",
       "                                                             drop_invariant=False,\n",
       "                                                             handle_unknown='impute',\n",
       "                                                             impute_missing=True,\n",
       "                                                             mapping=None,\n",
       "                                                             return_df=True,\n",
       "                                                             verbose=0)),\n",
       "                                             ('standardscaler',\n",
       "                                              StandardScaler(copy=True,\n",
       "                                                             with_mean=True,\n",
       "                                                             with_std=True)),\n",
       "                                             ('simpleimputer',\n",
       "                                              SimpleImputer(add...\n",
       "                                                                     oob_score=False,\n",
       "                                                                     random_state=42,\n",
       "                                                                     verbose=0,\n",
       "                                                                     warm_start=False))],\n",
       "                                      verbose=False),\n",
       "                   iid='warn', n_iter=100, n_jobs=-1,\n",
       "                   param_distributions={'randomforestclassifier__max_depth': [7,\n",
       "                                                                              10,\n",
       "                                                                              15,\n",
       "                                                                              20],\n",
       "                                        'selectkbest__k': range(1, 20),\n",
       "                                        'simpleimputer__strategy': ['mean',\n",
       "                                                                    'median']},\n",
       "                   pre_dispatch='2*n_jobs', random_state=None, refit=True,\n",
       "                   return_train_score=True, scoring='accuracy', verbose=10)"
      ]
     },
     "execution_count": 46,
     "metadata": {},
     "output_type": "execute_result"
    }
   ],
   "source": [
    "from sklearn.model_selection import RandomizedSearchCV\n",
    "\n",
    "pipeline = make_pipeline(\n",
    "ce.OrdinalEncoder(),\n",
    "StandardScaler(),\n",
    "SimpleImputer(strategy='mean'), \n",
    "SelectKBest(score_func=f_regression, k=k),\n",
    "RandomForestClassifier(random_state=42, n_estimators=100, n_jobs=-1)\n",
    ")\n",
    "param_distributions = {\n",
    "    'simpleimputer__strategy': ['mean', 'median'], \n",
    "    'selectkbest__k': range(1, len(X_train.columns)+1) ,\n",
    "    'randomforestclassifier__max_depth': [7, 10, 15, 20] \n",
    "}\n",
    "search = RandomizedSearchCV(\n",
    "    pipeline, \n",
    "    param_distributions=param_distributions, \n",
    "    n_iter=100, \n",
    "    cv=5, \n",
    "    scoring='accuracy', \n",
    "    verbose=10, \n",
    "    return_train_score=True, \n",
    "    n_jobs=-1\n",
    ")\n",
    "\n",
    "search.fit(X_train, y_train)"
   ]
  },
  {
   "cell_type": "code",
   "execution_count": 48,
   "metadata": {},
   "outputs": [
    {
     "name": "stdout",
     "output_type": "stream",
     "text": [
      "Best hyperparameters {'simpleimputer__strategy': 'mean', 'selectkbest__k': 19, 'randomforestclassifier__max_depth': 10}\n",
      "Cross-validation MAE -0.6635096886566514\n"
     ]
    }
   ],
   "source": [
    "print('Best hyperparameters', search.best_params_)\n",
    "print('Cross-validation MAE', -search.best_score_)"
   ]
  },
  {
   "cell_type": "code",
   "execution_count": 49,
   "metadata": {},
   "outputs": [
    {
     "name": "stderr",
     "output_type": "stream",
     "text": [
      "/home/jesse/anaconda3/lib/python3.7/site-packages/sklearn/feature_selection/univariate_selection.py:299: RuntimeWarning: invalid value encountered in true_divide\n",
      "  corr /= X_norms\n",
      "/home/jesse/anaconda3/lib/python3.7/site-packages/scipy/stats/_distn_infrastructure.py:901: RuntimeWarning: invalid value encountered in greater\n",
      "  return (a < x) & (x < b)\n",
      "/home/jesse/anaconda3/lib/python3.7/site-packages/scipy/stats/_distn_infrastructure.py:901: RuntimeWarning: invalid value encountered in less\n",
      "  return (a < x) & (x < b)\n",
      "/home/jesse/anaconda3/lib/python3.7/site-packages/scipy/stats/_distn_infrastructure.py:1892: RuntimeWarning: invalid value encountered in less_equal\n",
      "  cond2 = cond0 & (x <= _a)\n"
     ]
    },
    {
     "data": {
      "text/plain": [
       "0.6549134835128958"
      ]
     },
     "execution_count": 49,
     "metadata": {},
     "output_type": "execute_result"
    }
   ],
   "source": [
    "pipeline = make_pipeline(\n",
    "ce.OrdinalEncoder(),\n",
    "StandardScaler(),\n",
    "SimpleImputer(strategy='mean'), \n",
    "SelectKBest(score_func=f_regression, k=19),\n",
    "RandomForestClassifier(random_state=42, n_estimators=100, n_jobs=-1, max_depth=10)\n",
    ")\n",
    "pipeline.fit(X_train, y_train)\n",
    "pipeline.score(X_val, y_val)"
   ]
  },
  {
   "cell_type": "markdown",
   "metadata": {
    "colab_type": "text",
    "id": "YvyYY9tfy_CL"
   },
   "source": [
    "## 7. Get your model's test accuracy\n",
    "\n",
    "> (One time, at the end.)"
   ]
  },
  {
   "cell_type": "code",
   "execution_count": 50,
   "metadata": {
    "colab": {},
    "colab_type": "code",
    "id": "wjV2dfl6y_CL"
   },
   "outputs": [
    {
     "data": {
      "text/plain": [
       "0.6272674078408426"
      ]
     },
     "execution_count": 50,
     "metadata": {},
     "output_type": "execute_result"
    }
   ],
   "source": [
    "pipeline.score(X_test, y_test)"
   ]
  },
  {
   "cell_type": "markdown",
   "metadata": {
    "colab_type": "text",
    "id": "xGL5stLvJCn1"
   },
   "source": [
    "## 8. Given a confusion matrix, calculate accuracy, precision, and recall.\n",
    "\n",
    "Imagine this is the confusion matrix for a binary classification model. Use the confusion matrix to calculate the model's accuracy, precision, and recall.\n",
    "\n",
    "<table>\n",
    "  <tr>\n",
    "    <td colspan=\"2\" rowspan=\"2\"></td>\n",
    "    <td colspan=\"2\">Predicted</td>\n",
    "  </tr>\n",
    "  <tr>\n",
    "    <td>Negative</td>\n",
    "    <td>Positive</td>\n",
    "  </tr>\n",
    "  <tr>\n",
    "    <td rowspan=\"2\">Actual</td>\n",
    "    <td>Negative</td>\n",
    "    <td style=\"border: solid\">85</td>\n",
    "    <td style=\"border: solid\">58</td>\n",
    "  </tr>\n",
    "  <tr>\n",
    "    <td>Positive</td>\n",
    "    <td style=\"border: solid\">8</td>\n",
    "    <td style=\"border: solid\"> 36</td>\n",
    "  </tr>\n",
    "</table>"
   ]
  },
  {
   "cell_type": "markdown",
   "metadata": {
    "colab_type": "text",
    "id": "nEvt7NkUJNao"
   },
   "source": [
    "### Calculate accuracy "
   ]
  },
  {
   "cell_type": "code",
   "execution_count": 53,
   "metadata": {
    "colab": {},
    "colab_type": "code",
    "id": "FFszS2A5JJmv"
   },
   "outputs": [
    {
     "data": {
      "text/plain": [
       "0.6272674078408426"
      ]
     },
     "execution_count": 53,
     "metadata": {},
     "output_type": "execute_result"
    }
   ],
   "source": [
    "from sklearn.metrics import confusion_matrix\n",
    "confusion_matrix=confusion_matrix(y_test, pipeline.predict(X_test))\n",
    "y_pred=pipeline.predict(X_test)\n",
    "correct_predictions=confusion_matrix[0][0]+confusion_matrix[1][1]\n",
    "incorrect_predictions=confusion_matrix[0][1]+confusion_matrix[1][0]\n",
    "total_predictions=correct_predictions+incorrect_predictions\n",
    "correct_predictions/total_predictions"
   ]
  },
  {
   "cell_type": "markdown",
   "metadata": {
    "colab_type": "text",
    "id": "XjHTmk8sJO4v"
   },
   "source": [
    "### Calculate precision"
   ]
  },
  {
   "cell_type": "code",
   "execution_count": 57,
   "metadata": {
    "colab": {},
    "colab_type": "code",
    "id": "7qX1gbcMJQS_"
   },
   "outputs": [
    {
     "data": {
      "text/plain": [
       "0.5821831869510665"
      ]
     },
     "execution_count": 57,
     "metadata": {},
     "output_type": "execute_result"
    }
   ],
   "source": [
    "precision = confusion_matrix[1][1]/(confusion_matrix[1][1]+confusion_matrix[1][0])\n",
    "precision\n"
   ]
  },
  {
   "cell_type": "markdown",
   "metadata": {
    "colab_type": "text",
    "id": "pFug3ZKaJQ7A"
   },
   "source": [
    "### Calculate recall"
   ]
  },
  {
   "cell_type": "code",
   "execution_count": 58,
   "metadata": {
    "colab": {},
    "colab_type": "code",
    "id": "L0OKc3JxJR4r"
   },
   "outputs": [],
   "source": [
    "recall= confusion_matrix[1][1]/(confusion_matrix[1][1]+confusion_matrix[0][1])"
   ]
  },
  {
   "cell_type": "code",
   "execution_count": 59,
   "metadata": {},
   "outputs": [
    {
     "data": {
      "text/plain": [
       "0.6041666666666666"
      ]
     },
     "execution_count": 59,
     "metadata": {},
     "output_type": "execute_result"
    }
   ],
   "source": [
    "recall"
   ]
  },
  {
   "cell_type": "code",
   "execution_count": null,
   "metadata": {},
   "outputs": [],
   "source": []
  }
 ],
 "metadata": {
  "colab": {
   "collapsed_sections": [],
   "name": "DS7_Sprint_Challenge_6.ipynb",
   "provenance": [],
   "version": "0.3.2"
  },
  "kernelspec": {
   "display_name": "Python 3",
   "language": "python",
   "name": "python3"
  },
  "language_info": {
   "codemirror_mode": {
    "name": "ipython",
    "version": 3
   },
   "file_extension": ".py",
   "mimetype": "text/x-python",
   "name": "python",
   "nbconvert_exporter": "python",
   "pygments_lexer": "ipython3",
   "version": "3.7.3"
  }
 },
 "nbformat": 4,
 "nbformat_minor": 1
}
